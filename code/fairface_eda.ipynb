{
 "cells": [
  {
   "cell_type": "markdown",
   "metadata": {},
   "source": [
    "## Exploratory Data Analysis on Fairface Dataset\n",
    "Source: https://github.com/dchen236/FairFace/blob/master/README.md\n",
    "\n",
    "### About Data\n",
    "Images (train + validation set): [Padding=0.25](https://drive.google.com/file/d/1Z1RqRo0_JiavaZw2yzZG6WETdZQ8qX86/view), [Padding=1.25](https://drive.google.com/file/d/1g7qNOZz9wC7OfOhcPqH1EZ5bk1UFGmlL/view)\\\n",
    "- Padding =0.25 in the main experiments (less margin)\n",
    "- Padding =1.25 for the bias experiments\n",
    "\n",
    "Labels: [Train](https://drive.google.com/file/d/1i1L3Yqwaio7YSOCj7ftgk8ZZchPG7dmH/view), [Validation](https://drive.google.com/file/d/1wOdja-ezstMEp81tX1a-EYkFebev4h7D/view)\n",
    "\n",
    "License: CC BY 4.0\n",
    "\n",
    "Notes\n",
    "The models and scripts were tested on a device with 8Gb GPU, it takes under 2 seconds to predict the 5 images in the test folder."
   ]
  },
  {
   "cell_type": "code",
   "execution_count": null,
   "metadata": {
    "tags": []
   },
   "outputs": [],
   "source": [
    "import numpy as np\n",
    "import pandas as pd\n",
    "import matplotlib.pyplot as plt\n",
    "import seaborn as sns\n",
    "import urllib.request\n",
    "import importlib.util\n",
    "import sys\n",
    "import os\n",
    "import io\n",
    "import requests\n",
    "from sklearn.preprocessing import LabelEncoder\n",
    "\n",
    "# %pip install pandas_profiling\n",
    "# %pip install typing_extensions\n",
    "# from pandas_profiling import ProfileReport\n"
   ]
  },
  {
   "cell_type": "markdown",
   "metadata": {},
   "source": [
    "#### Labels"
   ]
  },
  {
   "cell_type": "code",
   "execution_count": null,
   "metadata": {
    "tags": []
   },
   "outputs": [],
   "source": [
    "# Load the training label dataset\n",
    "train_file_id = '1i1L3Yqwaio7YSOCj7ftgk8ZZchPG7dmH'\n",
    "valid_file_id = '1wOdja-ezstMEp81tX1a-EYkFebev4h7D'\n",
    "train_url = f'https://drive.google.com/uc?export=download&id={train_file_id}'\n",
    "valid_url = f'https://drive.google.com/uc?export=download&id={valid_file_id}'\n",
    "train_response = requests.get(train_url)\n",
    "valid_response = requests.get(valid_url)\n",
    "train_ds = pd.read_csv(io.StringIO(train_response.text))\n",
    "valid_ds = pd.read_csv(io.StringIO(valid_response.text))\n",
    "all_labels = pd.concat([train_ds, valid_ds], axis=0)\n",
    "balanced_labels = all_labels.query(\"service_test == True\")\n"
   ]
  },
  {
   "cell_type": "code",
   "execution_count": null,
   "metadata": {
    "tags": []
   },
   "outputs": [
    {
     "name": "stdout",
     "output_type": "stream",
     "text": [
      "<class 'pandas.core.frame.DataFrame'>\n",
      "Index: 97698 entries, 0 to 10953\n",
      "Data columns (total 5 columns):\n",
      " #   Column        Non-Null Count  Dtype \n",
      "---  ------        --------------  ----- \n",
      " 0   file          97698 non-null  object\n",
      " 1   age           97698 non-null  object\n",
      " 2   gender        97698 non-null  object\n",
      " 3   race          97698 non-null  object\n",
      " 4   service_test  97698 non-null  bool  \n",
      "dtypes: bool(1), object(4)\n",
      "memory usage: 3.8+ MB\n"
     ]
    },
    {
     "data": {
      "text/plain": [
       "None"
      ]
     },
     "metadata": {},
     "output_type": "display_data"
    },
    {
     "data": {
      "application/vnd.microsoft.datawrangler.viewer.v0+json": {
       "columns": [
        {
         "name": "index",
         "rawType": "object",
         "type": "string"
        },
        {
         "name": "file",
         "rawType": "object",
         "type": "unknown"
        },
        {
         "name": "age",
         "rawType": "object",
         "type": "unknown"
        },
        {
         "name": "gender",
         "rawType": "object",
         "type": "unknown"
        },
        {
         "name": "race",
         "rawType": "object",
         "type": "unknown"
        },
        {
         "name": "service_test",
         "rawType": "object",
         "type": "unknown"
        }
       ],
       "conversionMethod": "pd.DataFrame",
       "ref": "40e007b0-f853-4d35-91fb-41ae87095797",
       "rows": [
        [
         "count",
         "97698",
         "97698",
         "97698",
         "97698",
         "97698"
        ],
        [
         "unique",
         "97698",
         "9",
         "2",
         "7",
         "2"
        ],
        [
         "top",
         "train/1.jpg",
         "20-29",
         "Male",
         "White",
         "False"
        ],
        [
         "freq",
         "1",
         "28898",
         "51778",
         "18612",
         "52284"
        ]
       ],
       "shape": {
        "columns": 5,
        "rows": 4
       }
      },
      "text/html": [
       "<div>\n",
       "<style scoped>\n",
       "    .dataframe tbody tr th:only-of-type {\n",
       "        vertical-align: middle;\n",
       "    }\n",
       "\n",
       "    .dataframe tbody tr th {\n",
       "        vertical-align: top;\n",
       "    }\n",
       "\n",
       "    .dataframe thead th {\n",
       "        text-align: right;\n",
       "    }\n",
       "</style>\n",
       "<table border=\"1\" class=\"dataframe\">\n",
       "  <thead>\n",
       "    <tr style=\"text-align: right;\">\n",
       "      <th></th>\n",
       "      <th>file</th>\n",
       "      <th>age</th>\n",
       "      <th>gender</th>\n",
       "      <th>race</th>\n",
       "      <th>service_test</th>\n",
       "    </tr>\n",
       "  </thead>\n",
       "  <tbody>\n",
       "    <tr>\n",
       "      <th>count</th>\n",
       "      <td>97698</td>\n",
       "      <td>97698</td>\n",
       "      <td>97698</td>\n",
       "      <td>97698</td>\n",
       "      <td>97698</td>\n",
       "    </tr>\n",
       "    <tr>\n",
       "      <th>unique</th>\n",
       "      <td>97698</td>\n",
       "      <td>9</td>\n",
       "      <td>2</td>\n",
       "      <td>7</td>\n",
       "      <td>2</td>\n",
       "    </tr>\n",
       "    <tr>\n",
       "      <th>top</th>\n",
       "      <td>train/1.jpg</td>\n",
       "      <td>20-29</td>\n",
       "      <td>Male</td>\n",
       "      <td>White</td>\n",
       "      <td>False</td>\n",
       "    </tr>\n",
       "    <tr>\n",
       "      <th>freq</th>\n",
       "      <td>1</td>\n",
       "      <td>28898</td>\n",
       "      <td>51778</td>\n",
       "      <td>18612</td>\n",
       "      <td>52284</td>\n",
       "    </tr>\n",
       "  </tbody>\n",
       "</table>\n",
       "</div>"
      ],
      "text/plain": [
       "               file    age gender   race service_test\n",
       "count         97698  97698  97698  97698        97698\n",
       "unique        97698      9      2      7            2\n",
       "top     train/1.jpg  20-29   Male  White        False\n",
       "freq              1  28898  51778  18612        52284"
      ]
     },
     "metadata": {},
     "output_type": "display_data"
    },
    {
     "data": {
      "application/vnd.microsoft.datawrangler.viewer.v0+json": {
       "columns": [
        {
         "name": "index",
         "rawType": "int64",
         "type": "integer"
        },
        {
         "name": "file",
         "rawType": "object",
         "type": "string"
        },
        {
         "name": "age",
         "rawType": "object",
         "type": "string"
        },
        {
         "name": "gender",
         "rawType": "object",
         "type": "string"
        },
        {
         "name": "race",
         "rawType": "object",
         "type": "string"
        },
        {
         "name": "service_test",
         "rawType": "bool",
         "type": "boolean"
        }
       ],
       "conversionMethod": "pd.DataFrame",
       "ref": "600eda92-19ac-4dee-8db7-91eb88666fcd",
       "rows": [
        [
         "0",
         "train/1.jpg",
         "50-59",
         "Male",
         "East Asian",
         "True"
        ],
        [
         "1",
         "train/2.jpg",
         "30-39",
         "Female",
         "Indian",
         "False"
        ],
        [
         "2",
         "train/3.jpg",
         "3-9",
         "Female",
         "Black",
         "False"
        ],
        [
         "3",
         "train/4.jpg",
         "20-29",
         "Female",
         "Indian",
         "True"
        ],
        [
         "4",
         "train/5.jpg",
         "20-29",
         "Female",
         "Indian",
         "True"
        ]
       ],
       "shape": {
        "columns": 5,
        "rows": 5
       }
      },
      "text/html": [
       "<div>\n",
       "<style scoped>\n",
       "    .dataframe tbody tr th:only-of-type {\n",
       "        vertical-align: middle;\n",
       "    }\n",
       "\n",
       "    .dataframe tbody tr th {\n",
       "        vertical-align: top;\n",
       "    }\n",
       "\n",
       "    .dataframe thead th {\n",
       "        text-align: right;\n",
       "    }\n",
       "</style>\n",
       "<table border=\"1\" class=\"dataframe\">\n",
       "  <thead>\n",
       "    <tr style=\"text-align: right;\">\n",
       "      <th></th>\n",
       "      <th>file</th>\n",
       "      <th>age</th>\n",
       "      <th>gender</th>\n",
       "      <th>race</th>\n",
       "      <th>service_test</th>\n",
       "    </tr>\n",
       "  </thead>\n",
       "  <tbody>\n",
       "    <tr>\n",
       "      <th>0</th>\n",
       "      <td>train/1.jpg</td>\n",
       "      <td>50-59</td>\n",
       "      <td>Male</td>\n",
       "      <td>East Asian</td>\n",
       "      <td>True</td>\n",
       "    </tr>\n",
       "    <tr>\n",
       "      <th>1</th>\n",
       "      <td>train/2.jpg</td>\n",
       "      <td>30-39</td>\n",
       "      <td>Female</td>\n",
       "      <td>Indian</td>\n",
       "      <td>False</td>\n",
       "    </tr>\n",
       "    <tr>\n",
       "      <th>2</th>\n",
       "      <td>train/3.jpg</td>\n",
       "      <td>3-9</td>\n",
       "      <td>Female</td>\n",
       "      <td>Black</td>\n",
       "      <td>False</td>\n",
       "    </tr>\n",
       "    <tr>\n",
       "      <th>3</th>\n",
       "      <td>train/4.jpg</td>\n",
       "      <td>20-29</td>\n",
       "      <td>Female</td>\n",
       "      <td>Indian</td>\n",
       "      <td>True</td>\n",
       "    </tr>\n",
       "    <tr>\n",
       "      <th>4</th>\n",
       "      <td>train/5.jpg</td>\n",
       "      <td>20-29</td>\n",
       "      <td>Female</td>\n",
       "      <td>Indian</td>\n",
       "      <td>True</td>\n",
       "    </tr>\n",
       "  </tbody>\n",
       "</table>\n",
       "</div>"
      ],
      "text/plain": [
       "          file    age  gender        race  service_test\n",
       "0  train/1.jpg  50-59    Male  East Asian          True\n",
       "1  train/2.jpg  30-39  Female      Indian         False\n",
       "2  train/3.jpg    3-9  Female       Black         False\n",
       "3  train/4.jpg  20-29  Female      Indian          True\n",
       "4  train/5.jpg  20-29  Female      Indian          True"
      ]
     },
     "metadata": {},
     "output_type": "display_data"
    }
   ],
   "source": [
    "display(all_labels.info())\n",
    "display(all_labels.describe())\n",
    "display(all_labels.head())\n"
   ]
  },
  {
   "cell_type": "code",
   "execution_count": null,
   "metadata": {
    "tags": []
   },
   "outputs": [
    {
     "name": "stdout",
     "output_type": "stream",
     "text": [
      "<class 'pandas.core.frame.DataFrame'>\n",
      "Index: 45414 entries, 0 to 10953\n",
      "Data columns (total 5 columns):\n",
      " #   Column        Non-Null Count  Dtype \n",
      "---  ------        --------------  ----- \n",
      " 0   file          45414 non-null  object\n",
      " 1   age           45414 non-null  object\n",
      " 2   gender        45414 non-null  object\n",
      " 3   race          45414 non-null  object\n",
      " 4   service_test  45414 non-null  bool  \n",
      "dtypes: bool(1), object(4)\n",
      "memory usage: 1.8+ MB\n"
     ]
    },
    {
     "data": {
      "text/plain": [
       "None"
      ]
     },
     "metadata": {},
     "output_type": "display_data"
    },
    {
     "data": {
      "application/vnd.microsoft.datawrangler.viewer.v0+json": {
       "columns": [
        {
         "name": "index",
         "rawType": "object",
         "type": "string"
        },
        {
         "name": "file",
         "rawType": "object",
         "type": "unknown"
        },
        {
         "name": "age",
         "rawType": "object",
         "type": "unknown"
        },
        {
         "name": "gender",
         "rawType": "object",
         "type": "unknown"
        },
        {
         "name": "race",
         "rawType": "object",
         "type": "unknown"
        },
        {
         "name": "service_test",
         "rawType": "object",
         "type": "unknown"
        }
       ],
       "conversionMethod": "pd.DataFrame",
       "ref": "185dfa31-c25c-4cba-8af2-a17d17d86a67",
       "rows": [
        [
         "count",
         "45414",
         "45414",
         "45414",
         "45414",
         "45414"
        ],
        [
         "unique",
         "45414",
         "9",
         "2",
         "7",
         "1"
        ],
        [
         "top",
         "train/1.jpg",
         "20-29",
         "Male",
         "White",
         "True"
        ],
        [
         "freq",
         "1",
         "16953",
         "22764",
         "6511",
         "45414"
        ]
       ],
       "shape": {
        "columns": 5,
        "rows": 4
       }
      },
      "text/html": [
       "<div>\n",
       "<style scoped>\n",
       "    .dataframe tbody tr th:only-of-type {\n",
       "        vertical-align: middle;\n",
       "    }\n",
       "\n",
       "    .dataframe tbody tr th {\n",
       "        vertical-align: top;\n",
       "    }\n",
       "\n",
       "    .dataframe thead th {\n",
       "        text-align: right;\n",
       "    }\n",
       "</style>\n",
       "<table border=\"1\" class=\"dataframe\">\n",
       "  <thead>\n",
       "    <tr style=\"text-align: right;\">\n",
       "      <th></th>\n",
       "      <th>file</th>\n",
       "      <th>age</th>\n",
       "      <th>gender</th>\n",
       "      <th>race</th>\n",
       "      <th>service_test</th>\n",
       "    </tr>\n",
       "  </thead>\n",
       "  <tbody>\n",
       "    <tr>\n",
       "      <th>count</th>\n",
       "      <td>45414</td>\n",
       "      <td>45414</td>\n",
       "      <td>45414</td>\n",
       "      <td>45414</td>\n",
       "      <td>45414</td>\n",
       "    </tr>\n",
       "    <tr>\n",
       "      <th>unique</th>\n",
       "      <td>45414</td>\n",
       "      <td>9</td>\n",
       "      <td>2</td>\n",
       "      <td>7</td>\n",
       "      <td>1</td>\n",
       "    </tr>\n",
       "    <tr>\n",
       "      <th>top</th>\n",
       "      <td>train/1.jpg</td>\n",
       "      <td>20-29</td>\n",
       "      <td>Male</td>\n",
       "      <td>White</td>\n",
       "      <td>True</td>\n",
       "    </tr>\n",
       "    <tr>\n",
       "      <th>freq</th>\n",
       "      <td>1</td>\n",
       "      <td>16953</td>\n",
       "      <td>22764</td>\n",
       "      <td>6511</td>\n",
       "      <td>45414</td>\n",
       "    </tr>\n",
       "  </tbody>\n",
       "</table>\n",
       "</div>"
      ],
      "text/plain": [
       "               file    age gender   race service_test\n",
       "count         45414  45414  45414  45414        45414\n",
       "unique        45414      9      2      7            1\n",
       "top     train/1.jpg  20-29   Male  White         True\n",
       "freq              1  16953  22764   6511        45414"
      ]
     },
     "metadata": {},
     "output_type": "display_data"
    },
    {
     "data": {
      "application/vnd.microsoft.datawrangler.viewer.v0+json": {
       "columns": [
        {
         "name": "index",
         "rawType": "int64",
         "type": "integer"
        },
        {
         "name": "file",
         "rawType": "object",
         "type": "string"
        },
        {
         "name": "age",
         "rawType": "object",
         "type": "string"
        },
        {
         "name": "gender",
         "rawType": "object",
         "type": "string"
        },
        {
         "name": "race",
         "rawType": "object",
         "type": "string"
        },
        {
         "name": "service_test",
         "rawType": "bool",
         "type": "boolean"
        }
       ],
       "conversionMethod": "pd.DataFrame",
       "ref": "9b155298-8e74-48af-abd8-df481cf194cd",
       "rows": [
        [
         "0",
         "train/1.jpg",
         "50-59",
         "Male",
         "East Asian",
         "True"
        ],
        [
         "3",
         "train/4.jpg",
         "20-29",
         "Female",
         "Indian",
         "True"
        ],
        [
         "4",
         "train/5.jpg",
         "20-29",
         "Female",
         "Indian",
         "True"
        ],
        [
         "5",
         "train/6.jpg",
         "20-29",
         "Male",
         "White",
         "True"
        ],
        [
         "7",
         "train/8.jpg",
         "30-39",
         "Female",
         "Indian",
         "True"
        ]
       ],
       "shape": {
        "columns": 5,
        "rows": 5
       }
      },
      "text/html": [
       "<div>\n",
       "<style scoped>\n",
       "    .dataframe tbody tr th:only-of-type {\n",
       "        vertical-align: middle;\n",
       "    }\n",
       "\n",
       "    .dataframe tbody tr th {\n",
       "        vertical-align: top;\n",
       "    }\n",
       "\n",
       "    .dataframe thead th {\n",
       "        text-align: right;\n",
       "    }\n",
       "</style>\n",
       "<table border=\"1\" class=\"dataframe\">\n",
       "  <thead>\n",
       "    <tr style=\"text-align: right;\">\n",
       "      <th></th>\n",
       "      <th>file</th>\n",
       "      <th>age</th>\n",
       "      <th>gender</th>\n",
       "      <th>race</th>\n",
       "      <th>service_test</th>\n",
       "    </tr>\n",
       "  </thead>\n",
       "  <tbody>\n",
       "    <tr>\n",
       "      <th>0</th>\n",
       "      <td>train/1.jpg</td>\n",
       "      <td>50-59</td>\n",
       "      <td>Male</td>\n",
       "      <td>East Asian</td>\n",
       "      <td>True</td>\n",
       "    </tr>\n",
       "    <tr>\n",
       "      <th>3</th>\n",
       "      <td>train/4.jpg</td>\n",
       "      <td>20-29</td>\n",
       "      <td>Female</td>\n",
       "      <td>Indian</td>\n",
       "      <td>True</td>\n",
       "    </tr>\n",
       "    <tr>\n",
       "      <th>4</th>\n",
       "      <td>train/5.jpg</td>\n",
       "      <td>20-29</td>\n",
       "      <td>Female</td>\n",
       "      <td>Indian</td>\n",
       "      <td>True</td>\n",
       "    </tr>\n",
       "    <tr>\n",
       "      <th>5</th>\n",
       "      <td>train/6.jpg</td>\n",
       "      <td>20-29</td>\n",
       "      <td>Male</td>\n",
       "      <td>White</td>\n",
       "      <td>True</td>\n",
       "    </tr>\n",
       "    <tr>\n",
       "      <th>7</th>\n",
       "      <td>train/8.jpg</td>\n",
       "      <td>30-39</td>\n",
       "      <td>Female</td>\n",
       "      <td>Indian</td>\n",
       "      <td>True</td>\n",
       "    </tr>\n",
       "  </tbody>\n",
       "</table>\n",
       "</div>"
      ],
      "text/plain": [
       "          file    age  gender        race  service_test\n",
       "0  train/1.jpg  50-59    Male  East Asian          True\n",
       "3  train/4.jpg  20-29  Female      Indian          True\n",
       "4  train/5.jpg  20-29  Female      Indian          True\n",
       "5  train/6.jpg  20-29    Male       White          True\n",
       "7  train/8.jpg  30-39  Female      Indian          True"
      ]
     },
     "metadata": {},
     "output_type": "display_data"
    }
   ],
   "source": [
    "display(balanced_labels.info())\n",
    "display(balanced_labels.describe())\n",
    "display(balanced_labels.head())\n"
   ]
  },
  {
   "cell_type": "raw",
   "metadata": {
    "tags": []
   },
   "source": [
    "col_names = ['file', 'age', 'gender', 'race', 'service_test']\n",
    "\n",
    "for col in col_names:\n",
    "\n",
    "    print(train_ds[col].value_counts())\n"
   ]
  },
  {
   "cell_type": "code",
   "execution_count": null,
   "metadata": {
    "tags": []
   },
   "outputs": [
    {
     "data": {
      "text/plain": [
       "file            0\n",
       "age             0\n",
       "gender          0\n",
       "race            0\n",
       "service_test    0\n",
       "dtype: int64"
      ]
     },
     "execution_count": 6,
     "metadata": {},
     "output_type": "execute_result"
    }
   ],
   "source": [
    "# Check for missing values\n",
    "all_labels.isnull().sum()\n"
   ]
  },
  {
   "cell_type": "code",
   "execution_count": null,
   "metadata": {},
   "outputs": [],
   "source": [
    "# Drop 'file' column\n",
    "train_ds = train_ds.drop(columns=['file'])\n"
   ]
  },
  {
   "cell_type": "code",
   "execution_count": null,
   "metadata": {
    "tags": []
   },
   "outputs": [
    {
     "data": {
      "application/vnd.microsoft.datawrangler.viewer.v0+json": {
       "columns": [
        {
         "name": "index",
         "rawType": "int64",
         "type": "integer"
        },
        {
         "name": "file",
         "rawType": "object",
         "type": "string"
        },
        {
         "name": "age",
         "rawType": "object",
         "type": "string"
        },
        {
         "name": "gender",
         "rawType": "object",
         "type": "string"
        },
        {
         "name": "race",
         "rawType": "object",
         "type": "string"
        },
        {
         "name": "service_test",
         "rawType": "bool",
         "type": "boolean"
        }
       ],
       "conversionMethod": "pd.DataFrame",
       "ref": "4ba57ac3-a334-414c-aa78-74018a966f5e",
       "rows": [
        [
         "0",
         "train/1.jpg",
         "50-59",
         "Male",
         "East Asian",
         "True"
        ],
        [
         "1",
         "train/2.jpg",
         "30-39",
         "Female",
         "Indian",
         "False"
        ],
        [
         "2",
         "train/3.jpg",
         "3-9",
         "Female",
         "Black",
         "False"
        ],
        [
         "3",
         "train/4.jpg",
         "20-29",
         "Female",
         "Indian",
         "True"
        ],
        [
         "4",
         "train/5.jpg",
         "20-29",
         "Female",
         "Indian",
         "True"
        ]
       ],
       "shape": {
        "columns": 5,
        "rows": 5
       }
      },
      "text/html": [
       "<div>\n",
       "<style scoped>\n",
       "    .dataframe tbody tr th:only-of-type {\n",
       "        vertical-align: middle;\n",
       "    }\n",
       "\n",
       "    .dataframe tbody tr th {\n",
       "        vertical-align: top;\n",
       "    }\n",
       "\n",
       "    .dataframe thead th {\n",
       "        text-align: right;\n",
       "    }\n",
       "</style>\n",
       "<table border=\"1\" class=\"dataframe\">\n",
       "  <thead>\n",
       "    <tr style=\"text-align: right;\">\n",
       "      <th></th>\n",
       "      <th>file</th>\n",
       "      <th>age</th>\n",
       "      <th>gender</th>\n",
       "      <th>race</th>\n",
       "      <th>service_test</th>\n",
       "    </tr>\n",
       "  </thead>\n",
       "  <tbody>\n",
       "    <tr>\n",
       "      <th>0</th>\n",
       "      <td>train/1.jpg</td>\n",
       "      <td>50-59</td>\n",
       "      <td>Male</td>\n",
       "      <td>East Asian</td>\n",
       "      <td>True</td>\n",
       "    </tr>\n",
       "    <tr>\n",
       "      <th>1</th>\n",
       "      <td>train/2.jpg</td>\n",
       "      <td>30-39</td>\n",
       "      <td>Female</td>\n",
       "      <td>Indian</td>\n",
       "      <td>False</td>\n",
       "    </tr>\n",
       "    <tr>\n",
       "      <th>2</th>\n",
       "      <td>train/3.jpg</td>\n",
       "      <td>3-9</td>\n",
       "      <td>Female</td>\n",
       "      <td>Black</td>\n",
       "      <td>False</td>\n",
       "    </tr>\n",
       "    <tr>\n",
       "      <th>3</th>\n",
       "      <td>train/4.jpg</td>\n",
       "      <td>20-29</td>\n",
       "      <td>Female</td>\n",
       "      <td>Indian</td>\n",
       "      <td>True</td>\n",
       "    </tr>\n",
       "    <tr>\n",
       "      <th>4</th>\n",
       "      <td>train/5.jpg</td>\n",
       "      <td>20-29</td>\n",
       "      <td>Female</td>\n",
       "      <td>Indian</td>\n",
       "      <td>True</td>\n",
       "    </tr>\n",
       "  </tbody>\n",
       "</table>\n",
       "</div>"
      ],
      "text/plain": [
       "          file    age  gender        race  service_test\n",
       "0  train/1.jpg  50-59    Male  East Asian          True\n",
       "1  train/2.jpg  30-39  Female      Indian         False\n",
       "2  train/3.jpg    3-9  Female       Black         False\n",
       "3  train/4.jpg  20-29  Female      Indian          True\n",
       "4  train/5.jpg  20-29  Female      Indian          True"
      ]
     },
     "execution_count": 8,
     "metadata": {},
     "output_type": "execute_result"
    }
   ],
   "source": [
    "all_labels.head()\n"
   ]
  },
  {
   "cell_type": "code",
   "execution_count": null,
   "metadata": {},
   "outputs": [],
   "source": []
  },
  {
   "cell_type": "code",
   "execution_count": null,
   "metadata": {
    "tags": []
   },
   "outputs": [],
   "source": [
    "age_mapping = {\n",
    "    '0-2': 1, '3-9': 2, '10-19': 3, '20-29': 4, '30-39': 5,\n",
    "    '40-49': 6, '50-59': 7, '60-69': 8, '70+': 9\n",
    "}\n",
    "all_labels.loc[:, 'age'] = all_labels.age.map(age_mapping)\n",
    "balanced_labels.loc[:, 'age'] = balanced_labels.age.map(age_mapping)\n"
   ]
  },
  {
   "cell_type": "code",
   "execution_count": null,
   "metadata": {
    "tags": []
   },
   "outputs": [
    {
     "data": {
      "image/png": "[encoded data removed]",
      "text/plain": [
       "<Figure size 1000x600 with 1 Axes>"
      ]
     },
     "metadata": {},
     "output_type": "display_data"
    }
   ],
   "source": [
    "# Count frequency of 'age group'\n",
    "age_count = all_labels['age'].value_counts().sort_index()\n",
    "\n",
    "# Plot the histogram\n",
    "fig, ax = plt.subplots(figsize=(10, 6))\n",
    "age_count.plot(kind='bar', ax=ax, rot=0, color='lightblue')\n",
    "plt.xlabel('Age Group', size=16)\n",
    "plt.ylabel('Count', size=16)\n",
    "\n",
    "# Count frequency of 'age group'\n",
    "labels = [key for key, _ in sorted(\n",
    "    age_mapping.items(), key=lambda item: item[1])]\n",
    "# Ensure the number of labels matches the number of ticks\n",
    "ax.set_xticklabels(labels[:len(age_count)])\n",
    "plt.title('Age Group Distribution (full dataset)', size=20)\n",
    "plt.tight_layout()\n",
    "\n",
    "# show values on each bar\n",
    "for i, count in enumerate(age_count):\n",
    "    ax.text(i, count + 500, str(count), ha='center', va='center', size=14)\n",
    "# plt.savefig('age_dist_all.png')\n"
   ]
  },
  {
   "cell_type": "code",
   "execution_count": null,
   "metadata": {
    "tags": []
   },
   "outputs": [
    {
     "data": {
      "image/png": "[encoded data removed]",
      "text/plain": [
       "<Figure size 1000x600 with 1 Axes>"
      ]
     },
     "metadata": {},
     "output_type": "display_data"
    }
   ],
   "source": [
    "# Count frequency of 'age group'\n",
    "age_count = balanced_labels['age'].value_counts().sort_index()\n",
    "\n",
    "# Plot the histogram\n",
    "fig, ax = plt.subplots(figsize=(10, 6))\n",
    "age_count.plot(kind='bar', ax=ax, rot=0, color='lightblue')\n",
    "plt.xlabel('Age Group', size=16)\n",
    "plt.ylabel('Count', size=16)\n",
    "\n",
    "# Count frequency of 'age group'\n",
    "labels = [key for key, _ in sorted(\n",
    "    age_mapping.items(), key=lambda item: item[1])]\n",
    "# Ensure the number of labels matches the number of ticks\n",
    "ax.set_xticklabels(labels[:len(age_count)])\n",
    "plt.title('Age Group Distribution (service_test=True)', size=20)\n",
    "plt.tight_layout()\n",
    "\n",
    "# show values on each bar\n",
    "for i, count in enumerate(age_count):\n",
    "    ax.text(i, count + 500, str(count), ha='center', va='top', size=14)\n",
    "plt.savefig('age_dist_st.png')\n"
   ]
  },
  {
   "cell_type": "code",
   "execution_count": null,
   "metadata": {
    "tags": []
   },
   "outputs": [
    {
     "data": {
      "image/png": "[encoded data removed]",
      "text/plain": [
       "<Figure size 640x480 with 1 Axes>"
      ]
     },
     "metadata": {},
     "output_type": "display_data"
    }
   ],
   "source": [
    "# Count frequency of 'gender'\n",
    "all_labels['gender'].value_counts()\n",
    "\n",
    "# Plot the histogram\n",
    "all_labels['gender'].value_counts().plot(kind='bar', color='lightblue', rot=0)\n",
    "plt.xlabel('Gender', size=16)\n",
    "plt.ylabel('Count', size=16)\n",
    "plt.title('Gender Distribution (full dataset)', size=20)\n",
    "\n",
    "# show values on each bar\n",
    "for i, count in enumerate(all_labels['gender'].value_counts()):\n",
    "    plt.text(i, count + 500, str(count), ha='center', va='center', size=14)\n",
    "# plt.savefig('gender_dist_all.png')\n"
   ]
  },
  {
   "cell_type": "code",
   "execution_count": null,
   "metadata": {
    "tags": []
   },
   "outputs": [
    {
     "data": {
      "image/png": "[encoded data removed]",
      "text/plain": [
       "<Figure size 640x480 with 1 Axes>"
      ]
     },
     "metadata": {},
     "output_type": "display_data"
    }
   ],
   "source": [
    "# Count frequency of 'gender'\n",
    "balanced_labels['gender'].value_counts()\n",
    "\n",
    "# Plot the histogram\n",
    "balanced_labels['gender'].value_counts().plot(\n",
    "    kind='bar', color='lightblue', rot=0)\n",
    "plt.xlabel('Gender', size=16)\n",
    "plt.ylabel('Count', size=16)\n",
    "plt.title('Gender Distribution\\n(service_test=True)', size=20)\n",
    "\n",
    "# show values on each bar\n",
    "for i, count in enumerate(balanced_labels['gender'].value_counts()):\n",
    "    plt.text(i, count + 500, str(count), ha='center', va='top', size=14)\n",
    "plt.savefig('gender_dist_st.png')\n"
   ]
  },
  {
   "cell_type": "code",
   "execution_count": null,
   "metadata": {
    "tags": []
   },
   "outputs": [
    {
     "data": {
      "image/png": "[encoded data removed]",
      "text/plain": [
       "<Figure size 640x480 with 1 Axes>"
      ]
     },
     "metadata": {},
     "output_type": "display_data"
    }
   ],
   "source": [
    "# count frequency of 'race'\n",
    "all_labels['race'].value_counts()\n",
    "\n",
    "# plot the histogram\n",
    "all_labels['race'].value_counts().plot(kind='bar', color='lightblue', rot=45)\n",
    "# label x variables\n",
    "plt.xlabel('Race', size=16)\n",
    "plt.ylabel('Count', size=16)\n",
    "plt.title('Race Distribution (full dataset)', size=20)\n",
    "\n",
    "\n",
    "# show values on each bar\n",
    "for i, count in enumerate(all_labels['race'].value_counts()):\n",
    "    plt.text(i, count + 500, str(count), ha='center', va='top', size=14)\n",
    "plt.savefig('race_dist_all.png')\n"
   ]
  },
  {
   "cell_type": "code",
   "execution_count": null,
   "metadata": {
    "tags": []
   },
   "outputs": [
    {
     "data": {
      "image/png": "[encoded data removed]",
      "text/plain": [
       "<Figure size 640x480 with 1 Axes>"
      ]
     },
     "metadata": {},
     "output_type": "display_data"
    }
   ],
   "source": [
    "# count frequency of 'race'\n",
    "balanced_labels['race'].value_counts()\n",
    "\n",
    "# plot the histogram\n",
    "balanced_labels['race'].value_counts().plot(\n",
    "    kind='bar', color='lightblue', rot=45)\n",
    "# label x variables\n",
    "plt.xlabel('Race', size=16)\n",
    "plt.ylabel('Count', size=16)\n",
    "plt.title('Race Distribution\\n(service_test=True)', size=20)\n",
    "\n",
    "\n",
    "# show values on each bar\n",
    "for i, count in enumerate(balanced_labels['race'].value_counts()):\n",
    "    plt.text(i, count, str(count), ha='center', va='center', size=14)\n",
    "# plt.savefig('race_dist_st.png')\n"
   ]
  },
  {
   "cell_type": "code",
   "execution_count": null,
   "metadata": {
    "tags": []
   },
   "outputs": [
    {
     "data": {
      "image/png": "[encoded data removed]",
      "text/plain": [
       "<Figure size 640x480 with 1 Axes>"
      ]
     },
     "metadata": {},
     "output_type": "display_data"
    }
   ],
   "source": [
    "# count frequency of 'service_test'\n",
    "train_ds['service_test'].value_counts()\n",
    "\n",
    "# plot the histogram\n",
    "train_ds['service_test'].value_counts().plot(\n",
    "    kind='bar', color='lightblue', rot=0)\n",
    "# label x variables\n",
    "plt.xlabel('Service Test', size=16)\n",
    "plt.ylabel('Count', size=16)\n",
    "plt.title('Distribution of service_test \\n(full dataset)', size=20)\n",
    "\n",
    "# show values on each bar\n",
    "for i, count in enumerate(train_ds['service_test'].value_counts()):\n",
    "    plt.text(i, count + 500, str(count), ha='center', va='top', size=14)\n",
    "# plt.savefig('service_test_dist_all.png')\n"
   ]
  },
  {
   "cell_type": "code",
   "execution_count": null,
   "metadata": {
    "tags": []
   },
   "outputs": [
    {
     "data": {
      "application/vnd.microsoft.datawrangler.viewer.v0+json": {
       "columns": [
        {
         "name": "age",
         "rawType": "float64",
         "type": "float"
        },
        {
         "name": "('count', 'Female')",
         "rawType": "int64",
         "type": "integer"
        },
        {
         "name": "('count', 'Male')",
         "rawType": "int64",
         "type": "integer"
        }
       ],
       "conversionMethod": "pd.DataFrame",
       "ref": "a1764612-5235-4fc9-9ae9-76628cabbe56",
       "rows": [
        [
         "1.0",
         "768",
         "1223"
        ],
        [
         "2.0",
         "5254",
         "6510"
        ],
        [
         "3.0",
         "5629",
         "4655"
        ],
        [
         "4.0",
         "16095",
         "12803"
        ],
        [
         "5.0",
         "9438",
         "12142"
        ],
        [
         "6.0",
         "4591",
         "7506"
        ],
        [
         "7.0",
         "2494",
         "4530"
        ],
        [
         "8.0",
         "1154",
         "1946"
        ]
       ],
       "shape": {
        "columns": 2,
        "rows": 8
       }
      },
      "text/html": [
       "<div>\n",
       "<style scoped>\n",
       "    .dataframe tbody tr th:only-of-type {\n",
       "        vertical-align: middle;\n",
       "    }\n",
       "\n",
       "    .dataframe tbody tr th {\n",
       "        vertical-align: top;\n",
       "    }\n",
       "\n",
       "    .dataframe thead tr th {\n",
       "        text-align: left;\n",
       "    }\n",
       "\n",
       "    .dataframe thead tr:last-of-type th {\n",
       "        text-align: right;\n",
       "    }\n",
       "</style>\n",
       "<table border=\"1\" class=\"dataframe\">\n",
       "  <thead>\n",
       "    <tr>\n",
       "      <th></th>\n",
       "      <th colspan=\"2\" halign=\"left\">count</th>\n",
       "    </tr>\n",
       "    <tr>\n",
       "      <th>gender</th>\n",
       "      <th>Female</th>\n",
       "      <th>Male</th>\n",
       "    </tr>\n",
       "    <tr>\n",
       "      <th>age</th>\n",
       "      <th></th>\n",
       "      <th></th>\n",
       "    </tr>\n",
       "  </thead>\n",
       "  <tbody>\n",
       "    <tr>\n",
       "      <th>1.0</th>\n",
       "      <td>768</td>\n",
       "      <td>1223</td>\n",
       "    </tr>\n",
       "    <tr>\n",
       "      <th>2.0</th>\n",
       "      <td>5254</td>\n",
       "      <td>6510</td>\n",
       "    </tr>\n",
       "    <tr>\n",
       "      <th>3.0</th>\n",
       "      <td>5629</td>\n",
       "      <td>4655</td>\n",
       "    </tr>\n",
       "    <tr>\n",
       "      <th>4.0</th>\n",
       "      <td>16095</td>\n",
       "      <td>12803</td>\n",
       "    </tr>\n",
       "    <tr>\n",
       "      <th>5.0</th>\n",
       "      <td>9438</td>\n",
       "      <td>12142</td>\n",
       "    </tr>\n",
       "    <tr>\n",
       "      <th>6.0</th>\n",
       "      <td>4591</td>\n",
       "      <td>7506</td>\n",
       "    </tr>\n",
       "    <tr>\n",
       "      <th>7.0</th>\n",
       "      <td>2494</td>\n",
       "      <td>4530</td>\n",
       "    </tr>\n",
       "    <tr>\n",
       "      <th>8.0</th>\n",
       "      <td>1154</td>\n",
       "      <td>1946</td>\n",
       "    </tr>\n",
       "  </tbody>\n",
       "</table>\n",
       "</div>"
      ],
      "text/plain": [
       "        count       \n",
       "gender Female   Male\n",
       "age                 \n",
       "1.0       768   1223\n",
       "2.0      5254   6510\n",
       "3.0      5629   4655\n",
       "4.0     16095  12803\n",
       "5.0      9438  12142\n",
       "6.0      4591   7506\n",
       "7.0      2494   4530\n",
       "8.0      1154   1946"
      ]
     },
     "metadata": {},
     "output_type": "display_data"
    },
    {
     "data": {
      "application/vnd.microsoft.datawrangler.viewer.v0+json": {
       "columns": [
        {
         "name": "age",
         "rawType": "float64",
         "type": "float"
        },
        {
         "name": "('count', 'Black')",
         "rawType": "int64",
         "type": "integer"
        },
        {
         "name": "('count', 'East Asian')",
         "rawType": "int64",
         "type": "integer"
        },
        {
         "name": "('count', 'Indian')",
         "rawType": "int64",
         "type": "integer"
        },
        {
         "name": "('count', 'Latino_Hispanic')",
         "rawType": "int64",
         "type": "integer"
        },
        {
         "name": "('count', 'Middle Eastern')",
         "rawType": "int64",
         "type": "integer"
        },
        {
         "name": "('count', 'Southeast Asian')",
         "rawType": "int64",
         "type": "integer"
        },
        {
         "name": "('count', 'White')",
         "rawType": "int64",
         "type": "integer"
        }
       ],
       "conversionMethod": "pd.DataFrame",
       "ref": "60aca02d-5482-4ba1-b87a-112dafab7f1b",
       "rows": [
        [
         "1.0",
         "304",
         "457",
         "187",
         "208",
         "144",
         "248",
         "443"
        ],
        [
         "2.0",
         "2328",
         "1956",
         "1713",
         "1767",
         "837",
         "1730",
         "1433"
        ],
        [
         "3.0",
         "1721",
         "1321",
         "1715",
         "1824",
         "820",
         "1568",
         "1315"
        ],
        [
         "4.0",
         "3574",
         "5414",
         "3460",
         "3961",
         "2647",
         "3980",
         "5862"
        ],
        [
         "5.0",
         "2956",
         "2640",
         "3119",
         "3272",
         "2697",
         "2277",
         "4619"
        ],
        [
         "6.0",
         "1647",
         "1066",
         "1834",
         "2218",
         "1713",
         "1185",
         "2434"
        ],
        [
         "7.0",
         "856",
         "582",
         "1114",
         "1255",
         "942",
         "691",
         "1584"
        ],
        [
         "8.0",
         "311",
         "300",
         "501",
         "400",
         "491",
         "346",
         "751"
        ]
       ],
       "shape": {
        "columns": 7,
        "rows": 8
       }
      },
      "text/html": [
       "<div>\n",
       "<style scoped>\n",
       "    .dataframe tbody tr th:only-of-type {\n",
       "        vertical-align: middle;\n",
       "    }\n",
       "\n",
       "    .dataframe tbody tr th {\n",
       "        vertical-align: top;\n",
       "    }\n",
       "\n",
       "    .dataframe thead tr th {\n",
       "        text-align: left;\n",
       "    }\n",
       "\n",
       "    .dataframe thead tr:last-of-type th {\n",
       "        text-align: right;\n",
       "    }\n",
       "</style>\n",
       "<table border=\"1\" class=\"dataframe\">\n",
       "  <thead>\n",
       "    <tr>\n",
       "      <th></th>\n",
       "      <th colspan=\"7\" halign=\"left\">count</th>\n",
       "    </tr>\n",
       "    <tr>\n",
       "      <th>race</th>\n",
       "      <th>Black</th>\n",
       "      <th>East Asian</th>\n",
       "      <th>Indian</th>\n",
       "      <th>Latino_Hispanic</th>\n",
       "      <th>Middle Eastern</th>\n",
       "      <th>Southeast Asian</th>\n",
       "      <th>White</th>\n",
       "    </tr>\n",
       "    <tr>\n",
       "      <th>age</th>\n",
       "      <th></th>\n",
       "      <th></th>\n",
       "      <th></th>\n",
       "      <th></th>\n",
       "      <th></th>\n",
       "      <th></th>\n",
       "      <th></th>\n",
       "    </tr>\n",
       "  </thead>\n",
       "  <tbody>\n",
       "    <tr>\n",
       "      <th>1.0</th>\n",
       "      <td>304</td>\n",
       "      <td>457</td>\n",
       "      <td>187</td>\n",
       "      <td>208</td>\n",
       "      <td>144</td>\n",
       "      <td>248</td>\n",
       "      <td>443</td>\n",
       "    </tr>\n",
       "    <tr>\n",
       "      <th>2.0</th>\n",
       "      <td>2328</td>\n",
       "      <td>1956</td>\n",
       "      <td>1713</td>\n",
       "      <td>1767</td>\n",
       "      <td>837</td>\n",
       "      <td>1730</td>\n",
       "      <td>1433</td>\n",
       "    </tr>\n",
       "    <tr>\n",
       "      <th>3.0</th>\n",
       "      <td>1721</td>\n",
       "      <td>1321</td>\n",
       "      <td>1715</td>\n",
       "      <td>1824</td>\n",
       "      <td>820</td>\n",
       "      <td>1568</td>\n",
       "      <td>1315</td>\n",
       "    </tr>\n",
       "    <tr>\n",
       "      <th>4.0</th>\n",
       "      <td>3574</td>\n",
       "      <td>5414</td>\n",
       "      <td>3460</td>\n",
       "      <td>3961</td>\n",
       "      <td>2647</td>\n",
       "      <td>3980</td>\n",
       "      <td>5862</td>\n",
       "    </tr>\n",
       "    <tr>\n",
       "      <th>5.0</th>\n",
       "      <td>2956</td>\n",
       "      <td>2640</td>\n",
       "      <td>3119</td>\n",
       "      <td>3272</td>\n",
       "      <td>2697</td>\n",
       "      <td>2277</td>\n",
       "      <td>4619</td>\n",
       "    </tr>\n",
       "    <tr>\n",
       "      <th>6.0</th>\n",
       "      <td>1647</td>\n",
       "      <td>1066</td>\n",
       "      <td>1834</td>\n",
       "      <td>2218</td>\n",
       "      <td>1713</td>\n",
       "      <td>1185</td>\n",
       "      <td>2434</td>\n",
       "    </tr>\n",
       "    <tr>\n",
       "      <th>7.0</th>\n",
       "      <td>856</td>\n",
       "      <td>582</td>\n",
       "      <td>1114</td>\n",
       "      <td>1255</td>\n",
       "      <td>942</td>\n",
       "      <td>691</td>\n",
       "      <td>1584</td>\n",
       "    </tr>\n",
       "    <tr>\n",
       "      <th>8.0</th>\n",
       "      <td>311</td>\n",
       "      <td>300</td>\n",
       "      <td>501</td>\n",
       "      <td>400</td>\n",
       "      <td>491</td>\n",
       "      <td>346</td>\n",
       "      <td>751</td>\n",
       "    </tr>\n",
       "  </tbody>\n",
       "</table>\n",
       "</div>"
      ],
      "text/plain": [
       "     count                                                                   \\\n",
       "race Black East Asian Indian Latino_Hispanic Middle Eastern Southeast Asian   \n",
       "age                                                                           \n",
       "1.0    304        457    187             208            144             248   \n",
       "2.0   2328       1956   1713            1767            837            1730   \n",
       "3.0   1721       1321   1715            1824            820            1568   \n",
       "4.0   3574       5414   3460            3961           2647            3980   \n",
       "5.0   2956       2640   3119            3272           2697            2277   \n",
       "6.0   1647       1066   1834            2218           1713            1185   \n",
       "7.0    856        582   1114            1255            942             691   \n",
       "8.0    311        300    501             400            491             346   \n",
       "\n",
       "            \n",
       "race White  \n",
       "age         \n",
       "1.0    443  \n",
       "2.0   1433  \n",
       "3.0   1315  \n",
       "4.0   5862  \n",
       "5.0   4619  \n",
       "6.0   2434  \n",
       "7.0   1584  \n",
       "8.0    751  "
      ]
     },
     "metadata": {},
     "output_type": "display_data"
    }
   ],
   "source": [
    "all_minus_file = all_labels.drop(columns=['file', 'service_test'])\n",
    "display(all_minus_file.groupby('age').gender.value_counts().to_frame().unstack())\n",
    "display(all_minus_file.groupby('age').race.value_counts().to_frame().unstack())\n"
   ]
  },
  {
   "cell_type": "code",
   "execution_count": null,
   "metadata": {},
   "outputs": [
    {
     "data": {
      "application/vnd.microsoft.datawrangler.viewer.v0+json": {
       "columns": [
        {
         "name": "age",
         "rawType": "float64",
         "type": "float"
        },
        {
         "name": "('count', 'Female')",
         "rawType": "int64",
         "type": "integer"
        },
        {
         "name": "('count', 'Male')",
         "rawType": "int64",
         "type": "integer"
        }
       ],
       "conversionMethod": "pd.DataFrame",
       "ref": "107e6ae2-19ac-4cdf-b2f6-87ccfcbef4de",
       "rows": [
        [
         "1.0",
         "202",
         "210"
        ],
        [
         "2.0",
         "2085",
         "2107"
        ],
        [
         "3.0",
         "2719",
         "2689"
        ],
        [
         "4.0",
         "8427",
         "8526"
        ],
        [
         "5.0",
         "4701",
         "4729"
        ],
        [
         "6.0",
         "2566",
         "2549"
        ],
        [
         "7.0",
         "1221",
         "1202"
        ],
        [
         "8.0",
         "509",
         "602"
        ]
       ],
       "shape": {
        "columns": 2,
        "rows": 8
       }
      },
      "text/html": [
       "<div>\n",
       "<style scoped>\n",
       "    .dataframe tbody tr th:only-of-type {\n",
       "        vertical-align: middle;\n",
       "    }\n",
       "\n",
       "    .dataframe tbody tr th {\n",
       "        vertical-align: top;\n",
       "    }\n",
       "\n",
       "    .dataframe thead tr th {\n",
       "        text-align: left;\n",
       "    }\n",
       "\n",
       "    .dataframe thead tr:last-of-type th {\n",
       "        text-align: right;\n",
       "    }\n",
       "</style>\n",
       "<table border=\"1\" class=\"dataframe\">\n",
       "  <thead>\n",
       "    <tr>\n",
       "      <th></th>\n",
       "      <th colspan=\"2\" halign=\"left\">count</th>\n",
       "    </tr>\n",
       "    <tr>\n",
       "      <th>gender</th>\n",
       "      <th>Female</th>\n",
       "      <th>Male</th>\n",
       "    </tr>\n",
       "    <tr>\n",
       "      <th>age</th>\n",
       "      <th></th>\n",
       "      <th></th>\n",
       "    </tr>\n",
       "  </thead>\n",
       "  <tbody>\n",
       "    <tr>\n",
       "      <th>1.0</th>\n",
       "      <td>202</td>\n",
       "      <td>210</td>\n",
       "    </tr>\n",
       "    <tr>\n",
       "      <th>2.0</th>\n",
       "      <td>2085</td>\n",
       "      <td>2107</td>\n",
       "    </tr>\n",
       "    <tr>\n",
       "      <th>3.0</th>\n",
       "      <td>2719</td>\n",
       "      <td>2689</td>\n",
       "    </tr>\n",
       "    <tr>\n",
       "      <th>4.0</th>\n",
       "      <td>8427</td>\n",
       "      <td>8526</td>\n",
       "    </tr>\n",
       "    <tr>\n",
       "      <th>5.0</th>\n",
       "      <td>4701</td>\n",
       "      <td>4729</td>\n",
       "    </tr>\n",
       "    <tr>\n",
       "      <th>6.0</th>\n",
       "      <td>2566</td>\n",
       "      <td>2549</td>\n",
       "    </tr>\n",
       "    <tr>\n",
       "      <th>7.0</th>\n",
       "      <td>1221</td>\n",
       "      <td>1202</td>\n",
       "    </tr>\n",
       "    <tr>\n",
       "      <th>8.0</th>\n",
       "      <td>509</td>\n",
       "      <td>602</td>\n",
       "    </tr>\n",
       "  </tbody>\n",
       "</table>\n",
       "</div>"
      ],
      "text/plain": [
       "        count      \n",
       "gender Female  Male\n",
       "age                \n",
       "1.0       202   210\n",
       "2.0      2085  2107\n",
       "3.0      2719  2689\n",
       "4.0      8427  8526\n",
       "5.0      4701  4729\n",
       "6.0      2566  2549\n",
       "7.0      1221  1202\n",
       "8.0       509   602"
      ]
     },
     "metadata": {},
     "output_type": "display_data"
    },
    {
     "data": {
      "application/vnd.microsoft.datawrangler.viewer.v0+json": {
       "columns": [
        {
         "name": "age",
         "rawType": "float64",
         "type": "float"
        },
        {
         "name": "('count', 'Black')",
         "rawType": "int64",
         "type": "integer"
        },
        {
         "name": "('count', 'East Asian')",
         "rawType": "int64",
         "type": "integer"
        },
        {
         "name": "('count', 'Indian')",
         "rawType": "int64",
         "type": "integer"
        },
        {
         "name": "('count', 'Latino_Hispanic')",
         "rawType": "int64",
         "type": "integer"
        },
        {
         "name": "('count', 'Middle Eastern')",
         "rawType": "int64",
         "type": "integer"
        },
        {
         "name": "('count', 'Southeast Asian')",
         "rawType": "int64",
         "type": "integer"
        },
        {
         "name": "('count', 'White')",
         "rawType": "int64",
         "type": "integer"
        }
       ],
       "conversionMethod": "pd.DataFrame",
       "ref": "6608b6de-71a5-41e2-8055-66581f2534e3",
       "rows": [
        [
         "1.0",
         "62",
         "57",
         "56",
         "59",
         "60",
         "58",
         "60"
        ],
        [
         "2.0",
         "593",
         "599",
         "605",
         "603",
         "600",
         "599",
         "593"
        ],
        [
         "3.0",
         "756",
         "776",
         "778",
         "774",
         "773",
         "782",
         "769"
        ],
        [
         "4.0",
         "2435",
         "2422",
         "2416",
         "2428",
         "2416",
         "2395",
         "2441"
        ],
        [
         "5.0",
         "1342",
         "1352",
         "1351",
         "1345",
         "1349",
         "1346",
         "1345"
        ],
        [
         "6.0",
         "733",
         "734",
         "728",
         "732",
         "728",
         "726",
         "734"
        ],
        [
         "7.0",
         "347",
         "338",
         "341",
         "342",
         "351",
         "341",
         "363"
        ],
        [
         "8.0",
         "175",
         "157",
         "150",
         "169",
         "163",
         "130",
         "167"
        ]
       ],
       "shape": {
        "columns": 7,
        "rows": 8
       }
      },
      "text/html": [
       "<div>\n",
       "<style scoped>\n",
       "    .dataframe tbody tr th:only-of-type {\n",
       "        vertical-align: middle;\n",
       "    }\n",
       "\n",
       "    .dataframe tbody tr th {\n",
       "        vertical-align: top;\n",
       "    }\n",
       "\n",
       "    .dataframe thead tr th {\n",
       "        text-align: left;\n",
       "    }\n",
       "\n",
       "    .dataframe thead tr:last-of-type th {\n",
       "        text-align: right;\n",
       "    }\n",
       "</style>\n",
       "<table border=\"1\" class=\"dataframe\">\n",
       "  <thead>\n",
       "    <tr>\n",
       "      <th></th>\n",
       "      <th colspan=\"7\" halign=\"left\">count</th>\n",
       "    </tr>\n",
       "    <tr>\n",
       "      <th>race</th>\n",
       "      <th>Black</th>\n",
       "      <th>East Asian</th>\n",
       "      <th>Indian</th>\n",
       "      <th>Latino_Hispanic</th>\n",
       "      <th>Middle Eastern</th>\n",
       "      <th>Southeast Asian</th>\n",
       "      <th>White</th>\n",
       "    </tr>\n",
       "    <tr>\n",
       "      <th>age</th>\n",
       "      <th></th>\n",
       "      <th></th>\n",
       "      <th></th>\n",
       "      <th></th>\n",
       "      <th></th>\n",
       "      <th></th>\n",
       "      <th></th>\n",
       "    </tr>\n",
       "  </thead>\n",
       "  <tbody>\n",
       "    <tr>\n",
       "      <th>1.0</th>\n",
       "      <td>62</td>\n",
       "      <td>57</td>\n",
       "      <td>56</td>\n",
       "      <td>59</td>\n",
       "      <td>60</td>\n",
       "      <td>58</td>\n",
       "      <td>60</td>\n",
       "    </tr>\n",
       "    <tr>\n",
       "      <th>2.0</th>\n",
       "      <td>593</td>\n",
       "      <td>599</td>\n",
       "      <td>605</td>\n",
       "      <td>603</td>\n",
       "      <td>600</td>\n",
       "      <td>599</td>\n",
       "      <td>593</td>\n",
       "    </tr>\n",
       "    <tr>\n",
       "      <th>3.0</th>\n",
       "      <td>756</td>\n",
       "      <td>776</td>\n",
       "      <td>778</td>\n",
       "      <td>774</td>\n",
       "      <td>773</td>\n",
       "      <td>782</td>\n",
       "      <td>769</td>\n",
       "    </tr>\n",
       "    <tr>\n",
       "      <th>4.0</th>\n",
       "      <td>2435</td>\n",
       "      <td>2422</td>\n",
       "      <td>2416</td>\n",
       "      <td>2428</td>\n",
       "      <td>2416</td>\n",
       "      <td>2395</td>\n",
       "      <td>2441</td>\n",
       "    </tr>\n",
       "    <tr>\n",
       "      <th>5.0</th>\n",
       "      <td>1342</td>\n",
       "      <td>1352</td>\n",
       "      <td>1351</td>\n",
       "      <td>1345</td>\n",
       "      <td>1349</td>\n",
       "      <td>1346</td>\n",
       "      <td>1345</td>\n",
       "    </tr>\n",
       "    <tr>\n",
       "      <th>6.0</th>\n",
       "      <td>733</td>\n",
       "      <td>734</td>\n",
       "      <td>728</td>\n",
       "      <td>732</td>\n",
       "      <td>728</td>\n",
       "      <td>726</td>\n",
       "      <td>734</td>\n",
       "    </tr>\n",
       "    <tr>\n",
       "      <th>7.0</th>\n",
       "      <td>347</td>\n",
       "      <td>338</td>\n",
       "      <td>341</td>\n",
       "      <td>342</td>\n",
       "      <td>351</td>\n",
       "      <td>341</td>\n",
       "      <td>363</td>\n",
       "    </tr>\n",
       "    <tr>\n",
       "      <th>8.0</th>\n",
       "      <td>175</td>\n",
       "      <td>157</td>\n",
       "      <td>150</td>\n",
       "      <td>169</td>\n",
       "      <td>163</td>\n",
       "      <td>130</td>\n",
       "      <td>167</td>\n",
       "    </tr>\n",
       "  </tbody>\n",
       "</table>\n",
       "</div>"
      ],
      "text/plain": [
       "     count                                                                   \\\n",
       "race Black East Asian Indian Latino_Hispanic Middle Eastern Southeast Asian   \n",
       "age                                                                           \n",
       "1.0     62         57     56              59             60              58   \n",
       "2.0    593        599    605             603            600             599   \n",
       "3.0    756        776    778             774            773             782   \n",
       "4.0   2435       2422   2416            2428           2416            2395   \n",
       "5.0   1342       1352   1351            1345           1349            1346   \n",
       "6.0    733        734    728             732            728             726   \n",
       "7.0    347        338    341             342            351             341   \n",
       "8.0    175        157    150             169            163             130   \n",
       "\n",
       "            \n",
       "race White  \n",
       "age         \n",
       "1.0     60  \n",
       "2.0    593  \n",
       "3.0    769  \n",
       "4.0   2441  \n",
       "5.0   1345  \n",
       "6.0    734  \n",
       "7.0    363  \n",
       "8.0    167  "
      ]
     },
     "metadata": {},
     "output_type": "display_data"
    }
   ],
   "source": [
    "balanced_minus_file = balanced_labels.drop(columns=['file', 'service_test'])\n",
    "display(balanced_minus_file.groupby(\n",
    "    'age').gender.value_counts().to_frame().unstack())\n",
    "display(balanced_minus_file.groupby(\n",
    "    'age').race.value_counts().to_frame().unstack())\n"
   ]
  },
  {
   "cell_type": "code",
   "execution_count": null,
   "metadata": {
    "tags": []
   },
   "outputs": [
    {
     "data": {
      "text/plain": [
       "<Axes: xlabel='age'>"
      ]
     },
     "execution_count": 25,
     "metadata": {},
     "output_type": "execute_result"
    },
    {
     "data": {
      "image/png": "[encoded data removed]",
      "text/plain": [
       "<Figure size 640x480 with 1 Axes>"
      ]
     },
     "metadata": {},
     "output_type": "display_data"
    }
   ],
   "source": [
    "all_minus_file.groupby('age').gender.value_counts(\n",
    ").to_frame().unstack().plot(kind='bar')\n"
   ]
  },
  {
   "cell_type": "code",
   "execution_count": null,
   "metadata": {
    "tags": []
   },
   "outputs": [
    {
     "data": {
      "text/plain": [
       "<Axes: xlabel='age'>"
      ]
     },
     "execution_count": 26,
     "metadata": {},
     "output_type": "execute_result"
    },
    {
     "data": {
      "image/png": "[encoded data removed]",
      "text/plain": [
       "<Figure size 640x480 with 1 Axes>"
      ]
     },
     "metadata": {},
     "output_type": "display_data"
    }
   ],
   "source": [
    "balanced_minus_file.groupby('age').gender.value_counts(\n",
    ").to_frame().unstack().plot(kind='bar')\n"
   ]
  },
  {
   "cell_type": "code",
   "execution_count": null,
   "metadata": {
    "tags": []
   },
   "outputs": [
    {
     "data": {
      "text/plain": [
       "Text(0.5, 1.0, 'Distribution of races across age groups (full dataset)')"
      ]
     },
     "execution_count": 27,
     "metadata": {},
     "output_type": "execute_result"
    },
    {
     "data": {
      "image/png": "[encoded data removed]",
      "text/plain": [
       "<Figure size 640x480 with 1 Axes>"
      ]
     },
     "metadata": {},
     "output_type": "display_data"
    }
   ],
   "source": [
    "all_minus_file.groupby('age').race.value_counts(\n",
    ").to_frame().unstack().plot(kind='bar', rot=45)\n",
    "plt.legend('')\n",
    "plt.title('Distribution of races across age groups (full dataset)', size=14)\n"
   ]
  },
  {
   "cell_type": "code",
   "execution_count": null,
   "metadata": {
    "tags": []
   },
   "outputs": [
    {
     "data": {
      "text/plain": [
       "Text(0.5, 1.0, 'Distribution of races across age groups\\n(service_test=True)')"
      ]
     },
     "execution_count": 28,
     "metadata": {},
     "output_type": "execute_result"
    },
    {
     "data": {
      "image/png": "[encoded data removed]",
      "text/plain": [
       "<Figure size 640x480 with 1 Axes>"
      ]
     },
     "metadata": {},
     "output_type": "display_data"
    }
   ],
   "source": [
    "balanced_minus_file.groupby('age').race.value_counts(\n",
    ").to_frame().unstack().plot(kind='bar', rot=45)\n",
    "plt.legend('')\n",
    "plt.title('Distribution of races across age groups\\n(service_test=True)', size=14)\n"
   ]
  },
  {
   "cell_type": "code",
   "execution_count": null,
   "metadata": {},
   "outputs": [
    {
     "data": {
      "text/plain": [
       "Text(0.5, 1.0, 'Distribution of gender across race groups (full dataset)')"
      ]
     },
     "execution_count": 23,
     "metadata": {},
     "output_type": "execute_result"
    },
    {
     "data": {
      "image/png": "[encoded data removed]",
      "text/plain": [
       "<Figure size 640x480 with 1 Axes>"
      ]
     },
     "metadata": {},
     "output_type": "display_data"
    }
   ],
   "source": [
    "all_minus_file.groupby('race').gender.value_counts(\n",
    ").to_frame().unstack().plot(kind='bar', rot=45)\n",
    "plt.legend('')\n",
    "plt.title('Distribution of gender across race groups (full dataset)', size=14)\n"
   ]
  },
  {
   "cell_type": "code",
   "execution_count": null,
   "metadata": {},
   "outputs": [
    {
     "data": {
      "text/plain": [
       "Text(0.5, 1.0, 'Distribution of gender across race groups\\n(service_test=True)')"
      ]
     },
     "execution_count": 30,
     "metadata": {},
     "output_type": "execute_result"
    },
    {
     "data": {
      "image/png": "[encoded data removed]",
      "text/plain": [
       "<Figure size 640x480 with 1 Axes>"
      ]
     },
     "metadata": {},
     "output_type": "display_data"
    }
   ],
   "source": [
    "balanced_minus_file.groupby('race').gender.value_counts(\n",
    ").to_frame().unstack().plot(kind='bar', rot=45)\n",
    "plt.legend('')\n",
    "plt.title('Distribution of gender across race groups\\n(service_test=True)', size=14)\n"
   ]
  },
  {
   "cell_type": "markdown",
   "metadata": {},
   "source": [
    "### Distribution Comparison "
   ]
  },
  {
   "cell_type": "code",
   "execution_count": null,
   "metadata": {},
   "outputs": [
    {
     "data": {
      "image/png": "[encoded data removed]",
      "text/plain": [
       "<Figure size 1800x600 with 2 Axes>"
      ]
     },
     "metadata": {},
     "output_type": "display_data"
    }
   ],
   "source": [
    "fig, axes = plt.subplots(1, 2, figsize=(18, 6), sharey=True)\n",
    "\n",
    "# Define color mapping for gender\n",
    "gender_colors = {'Male': 'blue', 'Female': 'orange'}\n",
    "\n",
    "# Plot for all_minus_file\n",
    "all_gender_counts = all_minus_file.groupby(\n",
    "    'race').gender.value_counts().unstack()\n",
    "all_gender_counts[['Male', 'Female']].plot(\n",
    "    kind='bar', rot=45, ax=axes[0], color=[gender_colors['Male'], gender_colors['Female']])\n",
    "axes[0].legend(['Male', 'Female'])\n",
    "axes[0].set_ylabel('Count', size=14)\n",
    "axes[0].set_title(\n",
    "    'Distribution of race across gender groups (full dataset)', size=16)\n",
    "\n",
    "# Plot for balanced_minus_file\n",
    "balanced_gender_counts = balanced_minus_file.groupby(\n",
    "    'race').gender.value_counts().unstack()\n",
    "balanced_gender_counts[['Male', 'Female']].plot(\n",
    "    kind='bar', rot=45, ax=axes[1], color=[gender_colors['Male'], gender_colors['Female']])\n",
    "axes[1].legend(['Male', 'Female'])\n",
    "axes[1].set_ylabel('Count', size=14)\n",
    "axes[1].set_title(\n",
    "    'Distribution of races across gender groups\\n(service_test=True)', size=14)\n",
    "\n",
    "plt.tight_layout()\n",
    "sns.set_style(\"whitegrid\")\n",
    "plt.show()\n"
   ]
  },
  {
   "cell_type": "code",
   "execution_count": null,
   "metadata": {
    "tags": []
   },
   "outputs": [
    {
     "data": {
      "application/vnd.microsoft.datawrangler.viewer.v0+json": {
       "columns": [
        {
         "name": "age",
         "rawType": "float64",
         "type": "float"
        },
        {
         "name": "('count', 'Female')",
         "rawType": "int64",
         "type": "integer"
        },
        {
         "name": "('count', 'Male')",
         "rawType": "int64",
         "type": "integer"
        }
       ],
       "conversionMethod": "pd.DataFrame",
       "ref": "7021d384-ebaa-4ceb-8cbb-b186f54e8c28",
       "rows": [
        [
         "1.0",
         "202",
         "210"
        ],
        [
         "2.0",
         "2085",
         "2107"
        ],
        [
         "3.0",
         "2719",
         "2689"
        ],
        [
         "4.0",
         "8427",
         "8526"
        ],
        [
         "5.0",
         "4701",
         "4729"
        ],
        [
         "6.0",
         "2566",
         "2549"
        ],
        [
         "7.0",
         "1221",
         "1202"
        ],
        [
         "8.0",
         "509",
         "602"
        ]
       ],
       "shape": {
        "columns": 2,
        "rows": 8
       }
      },
      "text/html": [
       "<div>\n",
       "<style scoped>\n",
       "    .dataframe tbody tr th:only-of-type {\n",
       "        vertical-align: middle;\n",
       "    }\n",
       "\n",
       "    .dataframe tbody tr th {\n",
       "        vertical-align: top;\n",
       "    }\n",
       "\n",
       "    .dataframe thead tr th {\n",
       "        text-align: left;\n",
       "    }\n",
       "\n",
       "    .dataframe thead tr:last-of-type th {\n",
       "        text-align: right;\n",
       "    }\n",
       "</style>\n",
       "<table border=\"1\" class=\"dataframe\">\n",
       "  <thead>\n",
       "    <tr>\n",
       "      <th></th>\n",
       "      <th colspan=\"2\" halign=\"left\">count</th>\n",
       "    </tr>\n",
       "    <tr>\n",
       "      <th>gender</th>\n",
       "      <th>Female</th>\n",
       "      <th>Male</th>\n",
       "    </tr>\n",
       "    <tr>\n",
       "      <th>age</th>\n",
       "      <th></th>\n",
       "      <th></th>\n",
       "    </tr>\n",
       "  </thead>\n",
       "  <tbody>\n",
       "    <tr>\n",
       "      <th>1.0</th>\n",
       "      <td>202</td>\n",
       "      <td>210</td>\n",
       "    </tr>\n",
       "    <tr>\n",
       "      <th>2.0</th>\n",
       "      <td>2085</td>\n",
       "      <td>2107</td>\n",
       "    </tr>\n",
       "    <tr>\n",
       "      <th>3.0</th>\n",
       "      <td>2719</td>\n",
       "      <td>2689</td>\n",
       "    </tr>\n",
       "    <tr>\n",
       "      <th>4.0</th>\n",
       "      <td>8427</td>\n",
       "      <td>8526</td>\n",
       "    </tr>\n",
       "    <tr>\n",
       "      <th>5.0</th>\n",
       "      <td>4701</td>\n",
       "      <td>4729</td>\n",
       "    </tr>\n",
       "    <tr>\n",
       "      <th>6.0</th>\n",
       "      <td>2566</td>\n",
       "      <td>2549</td>\n",
       "    </tr>\n",
       "    <tr>\n",
       "      <th>7.0</th>\n",
       "      <td>1221</td>\n",
       "      <td>1202</td>\n",
       "    </tr>\n",
       "    <tr>\n",
       "      <th>8.0</th>\n",
       "      <td>509</td>\n",
       "      <td>602</td>\n",
       "    </tr>\n",
       "  </tbody>\n",
       "</table>\n",
       "</div>"
      ],
      "text/plain": [
       "        count      \n",
       "gender Female  Male\n",
       "age                \n",
       "1.0       202   210\n",
       "2.0      2085  2107\n",
       "3.0      2719  2689\n",
       "4.0      8427  8526\n",
       "5.0      4701  4729\n",
       "6.0      2566  2549\n",
       "7.0      1221  1202\n",
       "8.0       509   602"
      ]
     },
     "metadata": {},
     "output_type": "display_data"
    },
    {
     "data": {
      "application/vnd.microsoft.datawrangler.viewer.v0+json": {
       "columns": [
        {
         "name": "age",
         "rawType": "float64",
         "type": "float"
        },
        {
         "name": "('count', 'Black')",
         "rawType": "int64",
         "type": "integer"
        },
        {
         "name": "('count', 'East Asian')",
         "rawType": "int64",
         "type": "integer"
        },
        {
         "name": "('count', 'Indian')",
         "rawType": "int64",
         "type": "integer"
        },
        {
         "name": "('count', 'Latino_Hispanic')",
         "rawType": "int64",
         "type": "integer"
        },
        {
         "name": "('count', 'Middle Eastern')",
         "rawType": "int64",
         "type": "integer"
        },
        {
         "name": "('count', 'Southeast Asian')",
         "rawType": "int64",
         "type": "integer"
        },
        {
         "name": "('count', 'White')",
         "rawType": "int64",
         "type": "integer"
        }
       ],
       "conversionMethod": "pd.DataFrame",
       "ref": "a971e72c-7bc6-4401-aed6-50da34e341fc",
       "rows": [
        [
         "1.0",
         "62",
         "57",
         "56",
         "59",
         "60",
         "58",
         "60"
        ],
        [
         "2.0",
         "593",
         "599",
         "605",
         "603",
         "600",
         "599",
         "593"
        ],
        [
         "3.0",
         "756",
         "776",
         "778",
         "774",
         "773",
         "782",
         "769"
        ],
        [
         "4.0",
         "2435",
         "2422",
         "2416",
         "2428",
         "2416",
         "2395",
         "2441"
        ],
        [
         "5.0",
         "1342",
         "1352",
         "1351",
         "1345",
         "1349",
         "1346",
         "1345"
        ],
        [
         "6.0",
         "733",
         "734",
         "728",
         "732",
         "728",
         "726",
         "734"
        ],
        [
         "7.0",
         "347",
         "338",
         "341",
         "342",
         "351",
         "341",
         "363"
        ],
        [
         "8.0",
         "175",
         "157",
         "150",
         "169",
         "163",
         "130",
         "167"
        ]
       ],
       "shape": {
        "columns": 7,
        "rows": 8
       }
      },
      "text/html": [
       "<div>\n",
       "<style scoped>\n",
       "    .dataframe tbody tr th:only-of-type {\n",
       "        vertical-align: middle;\n",
       "    }\n",
       "\n",
       "    .dataframe tbody tr th {\n",
       "        vertical-align: top;\n",
       "    }\n",
       "\n",
       "    .dataframe thead tr th {\n",
       "        text-align: left;\n",
       "    }\n",
       "\n",
       "    .dataframe thead tr:last-of-type th {\n",
       "        text-align: right;\n",
       "    }\n",
       "</style>\n",
       "<table border=\"1\" class=\"dataframe\">\n",
       "  <thead>\n",
       "    <tr>\n",
       "      <th></th>\n",
       "      <th colspan=\"7\" halign=\"left\">count</th>\n",
       "    </tr>\n",
       "    <tr>\n",
       "      <th>race</th>\n",
       "      <th>Black</th>\n",
       "      <th>East Asian</th>\n",
       "      <th>Indian</th>\n",
       "      <th>Latino_Hispanic</th>\n",
       "      <th>Middle Eastern</th>\n",
       "      <th>Southeast Asian</th>\n",
       "      <th>White</th>\n",
       "    </tr>\n",
       "    <tr>\n",
       "      <th>age</th>\n",
       "      <th></th>\n",
       "      <th></th>\n",
       "      <th></th>\n",
       "      <th></th>\n",
       "      <th></th>\n",
       "      <th></th>\n",
       "      <th></th>\n",
       "    </tr>\n",
       "  </thead>\n",
       "  <tbody>\n",
       "    <tr>\n",
       "      <th>1.0</th>\n",
       "      <td>62</td>\n",
       "      <td>57</td>\n",
       "      <td>56</td>\n",
       "      <td>59</td>\n",
       "      <td>60</td>\n",
       "      <td>58</td>\n",
       "      <td>60</td>\n",
       "    </tr>\n",
       "    <tr>\n",
       "      <th>2.0</th>\n",
       "      <td>593</td>\n",
       "      <td>599</td>\n",
       "      <td>605</td>\n",
       "      <td>603</td>\n",
       "      <td>600</td>\n",
       "      <td>599</td>\n",
       "      <td>593</td>\n",
       "    </tr>\n",
       "    <tr>\n",
       "      <th>3.0</th>\n",
       "      <td>756</td>\n",
       "      <td>776</td>\n",
       "      <td>778</td>\n",
       "      <td>774</td>\n",
       "      <td>773</td>\n",
       "      <td>782</td>\n",
       "      <td>769</td>\n",
       "    </tr>\n",
       "    <tr>\n",
       "      <th>4.0</th>\n",
       "      <td>2435</td>\n",
       "      <td>2422</td>\n",
       "      <td>2416</td>\n",
       "      <td>2428</td>\n",
       "      <td>2416</td>\n",
       "      <td>2395</td>\n",
       "      <td>2441</td>\n",
       "    </tr>\n",
       "    <tr>\n",
       "      <th>5.0</th>\n",
       "      <td>1342</td>\n",
       "      <td>1352</td>\n",
       "      <td>1351</td>\n",
       "      <td>1345</td>\n",
       "      <td>1349</td>\n",
       "      <td>1346</td>\n",
       "      <td>1345</td>\n",
       "    </tr>\n",
       "    <tr>\n",
       "      <th>6.0</th>\n",
       "      <td>733</td>\n",
       "      <td>734</td>\n",
       "      <td>728</td>\n",
       "      <td>732</td>\n",
       "      <td>728</td>\n",
       "      <td>726</td>\n",
       "      <td>734</td>\n",
       "    </tr>\n",
       "    <tr>\n",
       "      <th>7.0</th>\n",
       "      <td>347</td>\n",
       "      <td>338</td>\n",
       "      <td>341</td>\n",
       "      <td>342</td>\n",
       "      <td>351</td>\n",
       "      <td>341</td>\n",
       "      <td>363</td>\n",
       "    </tr>\n",
       "    <tr>\n",
       "      <th>8.0</th>\n",
       "      <td>175</td>\n",
       "      <td>157</td>\n",
       "      <td>150</td>\n",
       "      <td>169</td>\n",
       "      <td>163</td>\n",
       "      <td>130</td>\n",
       "      <td>167</td>\n",
       "    </tr>\n",
       "  </tbody>\n",
       "</table>\n",
       "</div>"
      ],
      "text/plain": [
       "     count                                                                   \\\n",
       "race Black East Asian Indian Latino_Hispanic Middle Eastern Southeast Asian   \n",
       "age                                                                           \n",
       "1.0     62         57     56              59             60              58   \n",
       "2.0    593        599    605             603            600             599   \n",
       "3.0    756        776    778             774            773             782   \n",
       "4.0   2435       2422   2416            2428           2416            2395   \n",
       "5.0   1342       1352   1351            1345           1349            1346   \n",
       "6.0    733        734    728             732            728             726   \n",
       "7.0    347        338    341             342            351             341   \n",
       "8.0    175        157    150             169            163             130   \n",
       "\n",
       "            \n",
       "race White  \n",
       "age         \n",
       "1.0     60  \n",
       "2.0    593  \n",
       "3.0    769  \n",
       "4.0   2441  \n",
       "5.0   1345  \n",
       "6.0    734  \n",
       "7.0    363  \n",
       "8.0    167  "
      ]
     },
     "metadata": {},
     "output_type": "display_data"
    }
   ],
   "source": [
    "balanced_minus_file = balanced_labels.drop(columns=['file', 'service_test'])\n",
    "display(balanced_minus_file.groupby(\n",
    "    'age').gender.value_counts().to_frame().unstack())\n",
    "display(balanced_minus_file.groupby(\n",
    "    'age').race.value_counts().to_frame().unstack())\n"
   ]
  },
  {
   "cell_type": "code",
   "execution_count": null,
   "metadata": {},
   "outputs": [
    {
     "name": "stderr",
     "output_type": "stream",
     "text": [
      "C:\\Users\\n_oha\\AppData\\Local\\Temp\\ipykernel_12352\\2529780838.py:6: UserWarning: set_ticklabels() should only be used with a fixed number of ticks, i.e. after set_ticks() or using a FixedLocator.\n",
      "  axes[0, 0].set_xticklabels(labels[:len(train_ds['age'].unique())])\n"
     ]
    },
    {
     "data": {
      "image/png": "[encoded data removed]",
      "text/plain": [
       "<Figure size 1800x1000 with 4 Axes>"
      ]
     },
     "metadata": {},
     "output_type": "display_data"
    }
   ],
   "source": [
    "# Distribution of the Classes (age, gender, race, service_test)\n",
    "fig, axes = plt.subplots(2, 2, figsize=(18, 10))\n",
    "\n",
    "sns.countplot(ax=axes[0, 0], x='age', data=train_ds)\n",
    "labels = [key for key, _ in sorted(\n",
    "    age_mapping.items(), key=lambda item: item[1])]\n",
    "axes[0, 0].set_xticklabels(labels[:len(train_ds['age'].unique())])\n",
    "axes[0, 0].set_title('Age Distribution')\n",
    "\n",
    "sns.countplot(ax=axes[0, 1], x='gender', data=train_ds)\n",
    "axes[0, 1].set_title('Gender Distribution')\n",
    "\n",
    "sns.countplot(ax=axes[1, 0], x='race', data=train_ds)\n",
    "axes[1, 0].set_title('Race Distribution')\n",
    "\n",
    "sns.countplot(ax=axes[1, 1], x='service_test', data=train_ds)\n",
    "axes[1, 1].set_title('Service Test Distribution')\n",
    "\n",
    "plt.tight_layout()\n",
    "plt.show()\n"
   ]
  },
  {
   "cell_type": "code",
   "execution_count": null,
   "metadata": {},
   "outputs": [
    {
     "data": {
      "application/vnd.microsoft.datawrangler.viewer.v0+json": {
       "columns": [
        {
         "name": "race",
         "rawType": "object",
         "type": "string"
        },
        {
         "name": "False",
         "rawType": "int64",
         "type": "integer"
        },
        {
         "name": "True",
         "rawType": "int64",
         "type": "integer"
        }
       ],
       "conversionMethod": "pd.DataFrame",
       "ref": "6ac75e3c-b4f4-42eb-b258-8c0ffa657592",
       "rows": [
        [
         "Black",
         "6479",
         "5754"
        ],
        [
         "East Asian",
         "6515",
         "5772"
        ],
        [
         "Indian",
         "6565",
         "5754"
        ],
        [
         "Latino_Hispanic",
         "7611",
         "5756"
        ],
        [
         "Middle Eastern",
         "3502",
         "5714"
        ],
        [
         "Southeast Asian",
         "5070",
         "5725"
        ],
        [
         "White",
         "10750",
         "5777"
        ]
       ],
       "shape": {
        "columns": 2,
        "rows": 7
       }
      },
      "text/html": [
       "<div>\n",
       "<style scoped>\n",
       "    .dataframe tbody tr th:only-of-type {\n",
       "        vertical-align: middle;\n",
       "    }\n",
       "\n",
       "    .dataframe tbody tr th {\n",
       "        vertical-align: top;\n",
       "    }\n",
       "\n",
       "    .dataframe thead th {\n",
       "        text-align: right;\n",
       "    }\n",
       "</style>\n",
       "<table border=\"1\" class=\"dataframe\">\n",
       "  <thead>\n",
       "    <tr style=\"text-align: right;\">\n",
       "      <th>service_test</th>\n",
       "      <th>False</th>\n",
       "      <th>True</th>\n",
       "    </tr>\n",
       "    <tr>\n",
       "      <th>race</th>\n",
       "      <th></th>\n",
       "      <th></th>\n",
       "    </tr>\n",
       "  </thead>\n",
       "  <tbody>\n",
       "    <tr>\n",
       "      <th>Black</th>\n",
       "      <td>6479</td>\n",
       "      <td>5754</td>\n",
       "    </tr>\n",
       "    <tr>\n",
       "      <th>East Asian</th>\n",
       "      <td>6515</td>\n",
       "      <td>5772</td>\n",
       "    </tr>\n",
       "    <tr>\n",
       "      <th>Indian</th>\n",
       "      <td>6565</td>\n",
       "      <td>5754</td>\n",
       "    </tr>\n",
       "    <tr>\n",
       "      <th>Latino_Hispanic</th>\n",
       "      <td>7611</td>\n",
       "      <td>5756</td>\n",
       "    </tr>\n",
       "    <tr>\n",
       "      <th>Middle Eastern</th>\n",
       "      <td>3502</td>\n",
       "      <td>5714</td>\n",
       "    </tr>\n",
       "    <tr>\n",
       "      <th>Southeast Asian</th>\n",
       "      <td>5070</td>\n",
       "      <td>5725</td>\n",
       "    </tr>\n",
       "    <tr>\n",
       "      <th>White</th>\n",
       "      <td>10750</td>\n",
       "      <td>5777</td>\n",
       "    </tr>\n",
       "  </tbody>\n",
       "</table>\n",
       "</div>"
      ],
      "text/plain": [
       "service_test     False  True \n",
       "race                         \n",
       "Black             6479   5754\n",
       "East Asian        6515   5772\n",
       "Indian            6565   5754\n",
       "Latino_Hispanic   7611   5756\n",
       "Middle Eastern    3502   5714\n",
       "Southeast Asian   5070   5725\n",
       "White            10750   5777"
      ]
     },
     "execution_count": 16,
     "metadata": {},
     "output_type": "execute_result"
    }
   ],
   "source": [
    "# Correlation between race and service_test\n",
    "pd.crosstab(train_ds.race, train_ds.service_test)\n"
   ]
  },
  {
   "cell_type": "code",
   "execution_count": null,
   "metadata": {},
   "outputs": [
    {
     "data": {
      "application/vnd.microsoft.datawrangler.viewer.v0+json": {
       "columns": [
        {
         "name": "age",
         "rawType": "float64",
         "type": "float"
        },
        {
         "name": "False",
         "rawType": "int64",
         "type": "integer"
        },
        {
         "name": "True",
         "rawType": "int64",
         "type": "integer"
        }
       ],
       "conversionMethod": "pd.DataFrame",
       "ref": "b3e33d67-225b-4280-be17-cf52a828d726",
       "rows": [
        [
         "1.0",
         "1414",
         "378"
        ],
        [
         "2.0",
         "6721",
         "3687"
        ],
        [
         "3.0",
         "4326",
         "4777"
        ],
        [
         "4.0",
         "10582",
         "15016"
        ],
        [
         "5.0",
         "10852",
         "8398"
        ],
        [
         "6.0",
         "6208",
         "4536"
        ],
        [
         "7.0",
         "4095",
         "2133"
        ],
        [
         "8.0",
         "1775",
         "1004"
        ]
       ],
       "shape": {
        "columns": 2,
        "rows": 8
       }
      },
      "text/html": [
       "<div>\n",
       "<style scoped>\n",
       "    .dataframe tbody tr th:only-of-type {\n",
       "        vertical-align: middle;\n",
       "    }\n",
       "\n",
       "    .dataframe tbody tr th {\n",
       "        vertical-align: top;\n",
       "    }\n",
       "\n",
       "    .dataframe thead th {\n",
       "        text-align: right;\n",
       "    }\n",
       "</style>\n",
       "<table border=\"1\" class=\"dataframe\">\n",
       "  <thead>\n",
       "    <tr style=\"text-align: right;\">\n",
       "      <th>service_test</th>\n",
       "      <th>False</th>\n",
       "      <th>True</th>\n",
       "    </tr>\n",
       "    <tr>\n",
       "      <th>age</th>\n",
       "      <th></th>\n",
       "      <th></th>\n",
       "    </tr>\n",
       "  </thead>\n",
       "  <tbody>\n",
       "    <tr>\n",
       "      <th>1.0</th>\n",
       "      <td>1414</td>\n",
       "      <td>378</td>\n",
       "    </tr>\n",
       "    <tr>\n",
       "      <th>2.0</th>\n",
       "      <td>6721</td>\n",
       "      <td>3687</td>\n",
       "    </tr>\n",
       "    <tr>\n",
       "      <th>3.0</th>\n",
       "      <td>4326</td>\n",
       "      <td>4777</td>\n",
       "    </tr>\n",
       "    <tr>\n",
       "      <th>4.0</th>\n",
       "      <td>10582</td>\n",
       "      <td>15016</td>\n",
       "    </tr>\n",
       "    <tr>\n",
       "      <th>5.0</th>\n",
       "      <td>10852</td>\n",
       "      <td>8398</td>\n",
       "    </tr>\n",
       "    <tr>\n",
       "      <th>6.0</th>\n",
       "      <td>6208</td>\n",
       "      <td>4536</td>\n",
       "    </tr>\n",
       "    <tr>\n",
       "      <th>7.0</th>\n",
       "      <td>4095</td>\n",
       "      <td>2133</td>\n",
       "    </tr>\n",
       "    <tr>\n",
       "      <th>8.0</th>\n",
       "      <td>1775</td>\n",
       "      <td>1004</td>\n",
       "    </tr>\n",
       "  </tbody>\n",
       "</table>\n",
       "</div>"
      ],
      "text/plain": [
       "service_test  False  True \n",
       "age                       \n",
       "1.0            1414    378\n",
       "2.0            6721   3687\n",
       "3.0            4326   4777\n",
       "4.0           10582  15016\n",
       "5.0           10852   8398\n",
       "6.0            6208   4536\n",
       "7.0            4095   2133\n",
       "8.0            1775   1004"
      ]
     },
     "execution_count": 17,
     "metadata": {},
     "output_type": "execute_result"
    }
   ],
   "source": [
    "# Correlation between age and service_test\n",
    "pd.crosstab(train_ds['age'], train_ds['service_test'])\n"
   ]
  },
  {
   "cell_type": "code",
   "execution_count": null,
   "metadata": {
    "tags": []
   },
   "outputs": [
    {
     "data": {
      "text/html": [
       "<div>\n",
       "<style scoped>\n",
       "    .dataframe tbody tr th:only-of-type {\n",
       "        vertical-align: middle;\n",
       "    }\n",
       "\n",
       "    .dataframe tbody tr th {\n",
       "        vertical-align: top;\n",
       "    }\n",
       "\n",
       "    .dataframe thead th {\n",
       "        text-align: right;\n",
       "    }\n",
       "</style>\n",
       "<table border=\"1\" class=\"dataframe\">\n",
       "  <thead>\n",
       "    <tr style=\"text-align: right;\">\n",
       "      <th></th>\n",
       "      <th>age</th>\n",
       "      <th>gender</th>\n",
       "      <th>race</th>\n",
       "    </tr>\n",
       "  </thead>\n",
       "  <tbody>\n",
       "    <tr>\n",
       "      <th>age</th>\n",
       "      <td>1.0000</td>\n",
       "      <td>0.0819</td>\n",
       "      <td>0.0878</td>\n",
       "    </tr>\n",
       "    <tr>\n",
       "      <th>gender</th>\n",
       "      <td>0.0819</td>\n",
       "      <td>1.0000</td>\n",
       "      <td>0.0348</td>\n",
       "    </tr>\n",
       "    <tr>\n",
       "      <th>race</th>\n",
       "      <td>0.0878</td>\n",
       "      <td>0.0348</td>\n",
       "      <td>1.0000</td>\n",
       "    </tr>\n",
       "  </tbody>\n",
       "</table>\n",
       "</div>"
      ],
      "text/plain": [
       "           age  gender    race\n",
       "age     1.0000  0.0819  0.0878\n",
       "gender  0.0819  1.0000  0.0348\n",
       "race    0.0878  0.0348  1.0000"
      ]
     },
     "metadata": {},
     "output_type": "display_data"
    },
    {
     "data": {
      "text/html": [
       "<div>\n",
       "<style scoped>\n",
       "    .dataframe tbody tr th:only-of-type {\n",
       "        vertical-align: middle;\n",
       "    }\n",
       "\n",
       "    .dataframe tbody tr th {\n",
       "        vertical-align: top;\n",
       "    }\n",
       "\n",
       "    .dataframe thead th {\n",
       "        text-align: right;\n",
       "    }\n",
       "</style>\n",
       "<table border=\"1\" class=\"dataframe\">\n",
       "  <thead>\n",
       "    <tr style=\"text-align: right;\">\n",
       "      <th></th>\n",
       "      <th>age</th>\n",
       "      <th>gender</th>\n",
       "      <th>race</th>\n",
       "    </tr>\n",
       "  </thead>\n",
       "  <tbody>\n",
       "    <tr>\n",
       "      <th>age</th>\n",
       "      <td>1.0000</td>\n",
       "      <td>0.0032</td>\n",
       "      <td>-0.0010</td>\n",
       "    </tr>\n",
       "    <tr>\n",
       "      <th>gender</th>\n",
       "      <td>0.0032</td>\n",
       "      <td>1.0000</td>\n",
       "      <td>-0.0019</td>\n",
       "    </tr>\n",
       "    <tr>\n",
       "      <th>race</th>\n",
       "      <td>-0.0010</td>\n",
       "      <td>-0.0019</td>\n",
       "      <td>1.0000</td>\n",
       "    </tr>\n",
       "  </tbody>\n",
       "</table>\n",
       "</div>"
      ],
      "text/plain": [
       "           age  gender    race\n",
       "age     1.0000  0.0032 -0.0010\n",
       "gender  0.0032  1.0000 -0.0019\n",
       "race   -0.0010 -0.0019  1.0000"
      ]
     },
     "metadata": {},
     "output_type": "display_data"
    }
   ],
   "source": [
    "from sklearn.preprocessing import LabelEncoder\n",
    "\n",
    "# Encode categorical variables\n",
    "le = LabelEncoder()\n",
    "all_labels.loc[:, 'gender'] = le.fit_transform(all_labels['gender'])\n",
    "all_labels.loc[:, 'race'] = le.fit_transform(all_labels['race'])\n",
    "balanced_labels.loc[:, 'gender'] = le.fit_transform(balanced_labels['gender'])\n",
    "balanced_labels.loc[:, 'race'] = le.fit_transform(balanced_labels['race'])\n",
    "\n",
    "\n",
    "# Calculate correlation\n",
    "display(all_labels[['age', 'gender', 'race']].corr().round(4))\n",
    "display(balanced_labels[['age', 'gender', 'race']].corr().round(4))\n"
   ]
  },
  {
   "cell_type": "code",
   "execution_count": null,
   "metadata": {
    "tags": []
   },
   "outputs": [
    {
     "data": {
      "image/png": "[encoded data removed]",
      "text/plain": [
       "<Figure size 1000x800 with 2 Axes>"
      ]
     },
     "metadata": {},
     "output_type": "display_data"
    }
   ],
   "source": [
    "# correlation\n",
    "\n",
    "f, ax = plt.subplots(figsize=(10, 8))\n",
    "\n",
    "# Entire DataFrame\n",
    "all_labels_minus_file = all_labels.drop(columns='file')\n",
    "corr = all_labels_minus_file.corr()\n",
    "sns.heatmap(corr, annot_kws={'size': 20}, ax=ax)\n",
    "ax.set_title(\n",
    "    \"Correlation Matrix\\n(full dataset)\", fontsize=20)\n",
    "\n",
    "# plt.savefig('corr_matrix_all.png')\n"
   ]
  },
  {
   "cell_type": "code",
   "execution_count": null,
   "metadata": {
    "tags": []
   },
   "outputs": [
    {
     "data": {
      "image/png": "[encoded data removed]",
      "text/plain": [
       "<Figure size 1000x800 with 2 Axes>"
      ]
     },
     "metadata": {},
     "output_type": "display_data"
    }
   ],
   "source": [
    "# correlation\n",
    "\n",
    "f, ax = plt.subplots(figsize=(10, 8))\n",
    "\n",
    "# Entire DataFrame\n",
    "balanced_labels_minus_file = balanced_labels.drop(\n",
    "    columns=['file', 'service_test'])\n",
    "corr = balanced_labels_minus_file.corr()\n",
    "sns.heatmap(corr, annot_kws={'size': 20}, ax=ax)\n",
    "ax.set_title(\n",
    "    \"Correlation Matrix\\n(service_test=True)\", fontsize=20)\n",
    "\n",
    "plt.savefig('corr_matrix_st.png')\n"
   ]
  },
  {
   "cell_type": "markdown",
   "metadata": {},
   "source": [
    "### One-Hot Encoding"
   ]
  },
  {
   "cell_type": "code",
   "execution_count": null,
   "metadata": {},
   "outputs": [
    {
     "name": "stdout",
     "output_type": "stream",
     "text": [
      "Training Features shape:  (86744, 4)\n"
     ]
    }
   ],
   "source": [
    "# one-hot encoding of categorical variables\n",
    "train_ds = pd.get_dummies(train_ds)\n",
    "\n",
    "print('Training Features shape: ', train_ds.shape)\n"
   ]
  },
  {
   "cell_type": "code",
   "execution_count": null,
   "metadata": {},
   "outputs": [
    {
     "data": {
      "application/vnd.microsoft.datawrangler.viewer.v0+json": {
       "columns": [
        {
         "name": "index",
         "rawType": "int64",
         "type": "integer"
        },
        {
         "name": "age",
         "rawType": "float64",
         "type": "float"
        },
        {
         "name": "gender",
         "rawType": "int32",
         "type": "integer"
        },
        {
         "name": "race",
         "rawType": "int32",
         "type": "integer"
        },
        {
         "name": "service_test",
         "rawType": "bool",
         "type": "boolean"
        }
       ],
       "conversionMethod": "pd.DataFrame",
       "ref": "b99032c0-db43-4f1c-ac9c-531e34bbb9bd",
       "rows": [
        [
         "0",
         "7.0",
         "1",
         "1",
         "True"
        ],
        [
         "1",
         "5.0",
         "0",
         "2",
         "False"
        ],
        [
         "2",
         "2.0",
         "0",
         "0",
         "False"
        ],
        [
         "3",
         "4.0",
         "0",
         "2",
         "True"
        ],
        [
         "4",
         "4.0",
         "0",
         "2",
         "True"
        ]
       ],
       "shape": {
        "columns": 4,
        "rows": 5
       }
      },
      "text/html": [
       "<div>\n",
       "<style scoped>\n",
       "    .dataframe tbody tr th:only-of-type {\n",
       "        vertical-align: middle;\n",
       "    }\n",
       "\n",
       "    .dataframe tbody tr th {\n",
       "        vertical-align: top;\n",
       "    }\n",
       "\n",
       "    .dataframe thead th {\n",
       "        text-align: right;\n",
       "    }\n",
       "</style>\n",
       "<table border=\"1\" class=\"dataframe\">\n",
       "  <thead>\n",
       "    <tr style=\"text-align: right;\">\n",
       "      <th></th>\n",
       "      <th>age</th>\n",
       "      <th>gender</th>\n",
       "      <th>race</th>\n",
       "      <th>service_test</th>\n",
       "    </tr>\n",
       "  </thead>\n",
       "  <tbody>\n",
       "    <tr>\n",
       "      <th>0</th>\n",
       "      <td>7.0</td>\n",
       "      <td>1</td>\n",
       "      <td>1</td>\n",
       "      <td>True</td>\n",
       "    </tr>\n",
       "    <tr>\n",
       "      <th>1</th>\n",
       "      <td>5.0</td>\n",
       "      <td>0</td>\n",
       "      <td>2</td>\n",
       "      <td>False</td>\n",
       "    </tr>\n",
       "    <tr>\n",
       "      <th>2</th>\n",
       "      <td>2.0</td>\n",
       "      <td>0</td>\n",
       "      <td>0</td>\n",
       "      <td>False</td>\n",
       "    </tr>\n",
       "    <tr>\n",
       "      <th>3</th>\n",
       "      <td>4.0</td>\n",
       "      <td>0</td>\n",
       "      <td>2</td>\n",
       "      <td>True</td>\n",
       "    </tr>\n",
       "    <tr>\n",
       "      <th>4</th>\n",
       "      <td>4.0</td>\n",
       "      <td>0</td>\n",
       "      <td>2</td>\n",
       "      <td>True</td>\n",
       "    </tr>\n",
       "  </tbody>\n",
       "</table>\n",
       "</div>"
      ],
      "text/plain": [
       "   age  gender  race  service_test\n",
       "0  7.0       1     1          True\n",
       "1  5.0       0     2         False\n",
       "2  2.0       0     0         False\n",
       "3  4.0       0     2          True\n",
       "4  4.0       0     2          True"
      ]
     },
     "execution_count": 21,
     "metadata": {},
     "output_type": "execute_result"
    }
   ],
   "source": [
    "train_ds.head(5)\n"
   ]
  },
  {
   "cell_type": "markdown",
   "metadata": {},
   "source": [
    "================================\n",
    "#### Load validation data set"
   ]
  },
  {
   "cell_type": "code",
   "execution_count": null,
   "metadata": {},
   "outputs": [],
   "source": [
    "# Load the validation label dataset\n",
    "file_id = '1wOdja-ezstMEp81tX1a-EYkFebev4h7D'\n",
    "url = f'https://drive.google.com/uc?export=download&id={file_id}'\n",
    "response = requests.get(url)\n",
    "val_ds = pd.read_csv(io.StringIO(response.text))\n"
   ]
  },
  {
   "cell_type": "code",
   "execution_count": null,
   "metadata": {},
   "outputs": [],
   "source": [
    "val_ds.info()\n"
   ]
  },
  {
   "cell_type": "code",
   "execution_count": null,
   "metadata": {},
   "outputs": [],
   "source": [
    "val_ds.head(5)\n"
   ]
  },
  {
   "cell_type": "code",
   "execution_count": null,
   "metadata": {},
   "outputs": [],
   "source": [
    "\n",
    "col_names = ['file', 'age', 'gender', 'race', 'service_test']\n",
    "\n",
    "for col in col_names:\n",
    "\n",
    "    print(val_ds[col].value_counts())\n"
   ]
  },
  {
   "cell_type": "markdown",
   "metadata": {},
   "source": [
    "================================\n",
    "#### Images"
   ]
  },
  {
   "cell_type": "code",
   "execution_count": null,
   "metadata": {
    "tags": []
   },
   "outputs": [
    {
     "ename": "AttributeError",
     "evalue": "'Response' object has no attribute 'jpg'",
     "output_type": "error",
     "traceback": [
      "\u001b[1;31m---------------------------------------------------------------------------\u001b[0m",
      "\u001b[1;31mAttributeError\u001b[0m                            Traceback (most recent call last)",
      "Cell \u001b[1;32mIn[85], line 7\u001b[0m\n\u001b[0;32m      3\u001b[0m \tresponse \u001b[38;5;241m=\u001b[39m requests\u001b[38;5;241m.\u001b[39mget(url)\n\u001b[0;32m      4\u001b[0m \t\u001b[38;5;28;01mreturn\u001b[39;00m pd\u001b[38;5;241m.\u001b[39mread_csv(io\u001b[38;5;241m.\u001b[39mStringIO(response\u001b[38;5;241m.\u001b[39mjpg))\n\u001b[1;32m----> 7\u001b[0m image_ds \u001b[38;5;241m=\u001b[39m load_image_dataset(\n\u001b[0;32m      8\u001b[0m \t\u001b[38;5;124m'\u001b[39m\u001b[38;5;124mhttps://drive.google.com/uc?export=download&id=1Z1RqRo0_JiavaZw2yzZG6WETdZQ8qX86\u001b[39m\u001b[38;5;124m'\u001b[39m)\n",
      "Cell \u001b[1;32mIn[85], line 4\u001b[0m, in \u001b[0;36mload_image_dataset\u001b[1;34m(url)\u001b[0m\n\u001b[0;32m      2\u001b[0m \u001b[38;5;28;01mdef\u001b[39;00m \u001b[38;5;21mload_image_dataset\u001b[39m(url):\n\u001b[0;32m      3\u001b[0m \tresponse \u001b[38;5;241m=\u001b[39m requests\u001b[38;5;241m.\u001b[39mget(url)\n\u001b[1;32m----> 4\u001b[0m \t\u001b[38;5;28;01mreturn\u001b[39;00m pd\u001b[38;5;241m.\u001b[39mread_csv(io\u001b[38;5;241m.\u001b[39mStringIO(response\u001b[38;5;241m.\u001b[39mjpg))\n",
      "\u001b[1;31mAttributeError\u001b[0m: 'Response' object has no attribute 'jpg'"
     ]
    }
   ],
   "source": [
    "# Load image dataset from url\n",
    "def load_image_dataset(url):\n",
    "    response = requests.get(url)\n",
    "    return pd.read_csv(io.StringIO(response.jpg))\n",
    "\n",
    "\n",
    "image_ds = load_image_dataset(\n",
    "    'https://drive.google.com/uc?export=download&id=1Z1RqRo0_JiavaZw2yzZG6WETdZQ8qX86')\n"
   ]
  },
  {
   "cell_type": "code",
   "execution_count": null,
   "metadata": {
    "tags": []
   },
   "outputs": [],
   "source": [
    "image_ds\n"
   ]
  },
  {
   "cell_type": "code",
   "execution_count": null,
   "metadata": {
    "tags": []
   },
   "outputs": [],
   "source": [
    "from zipfile import ZipFile\n"
   ]
  },
  {
   "cell_type": "code",
   "execution_count": null,
   "metadata": {
    "tags": []
   },
   "outputs": [
    {
     "name": "stderr",
     "output_type": "stream",
     "text": [
      "IOPub data rate exceeded.\n",
      "The Jupyter server will temporarily stop sending output\n",
      "to the client in order to avoid crashing it.\n",
      "To change this limit, set the config variable\n",
      "`--ServerApp.iopub_data_rate_limit`.\n",
      "\n",
      "Current values:\n",
      "ServerApp.iopub_data_rate_limit=1000000.0 (bytes/sec)\n",
      "ServerApp.rate_limit_window=3.0 (secs)\n",
      "\n"
     ]
    }
   ],
   "source": [
    "with ZipFile('fairface-img-margin025-trainval.zip', 'r') as zip_ref:\n",
    "    my_zip = zip_ref.printdir()\n"
   ]
  },
  {
   "cell_type": "code",
   "execution_count": null,
   "metadata": {
    "tags": []
   },
   "outputs": [],
   "source": [
    "my_zip\n"
   ]
  }
 ],
 "metadata": {
  "kernelspec": {
   "display_name": "pymc_env",
   "language": "python",
   "name": "python3"
  },
  "language_info": {
   "codemirror_mode": {
    "name": "ipython",
    "version": 3
   },
   "file_extension": ".py",
   "mimetype": "text/x-python",
   "name": "python",
   "nbconvert_exporter": "python",
   "pygments_lexer": "ipython3",
   "version": "3.11.5"
  }
 },
 "nbformat": 4,
 "nbformat_minor": 4
}
