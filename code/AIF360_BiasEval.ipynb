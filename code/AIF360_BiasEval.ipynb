{
 "cells": [
  {
   "cell_type": "markdown",
   "id": "a6df785c",
   "metadata": {},
   "source": [
    "# Bias Detaction in `face-detction-0200`Model Using AIF 360"
   ]
  },
  {
   "cell_type": "markdown",
   "id": "e6614087",
   "metadata": {},
   "source": [
    "## AIF 360 ClassificationMetric Algorithm\n",
    "Compares your model's predictions to the ground truth labels and computes a set of metrics that can be used to evaluate the fairness of your model. The metrics include:\n",
    "* Disparate Impact (DI): Measures the ratio of the positive prediction rates for different groups. \n",
    "* Statistical Parity Difference (SPD): Measures the difference in positive prediction rates between groups. \n",
    "* Equal Opportunity Difference (EOD): Measures the difference in true positive rates between groups. \n",
    "* Average Odds Difference (AOD): Measures the difference in average odds between groups. \n",
    "* False Positive Rate Difference (FPRD): Measures the difference in false positive rates between groups. \n",
    "* Consistency: Measures the consistency of the model's predictions across different groups. \n"
   ]
  },
  {
   "cell_type": "code",
   "execution_count": null,
   "id": "13a140b1",
   "metadata": {},
   "outputs": [],
   "source": [
    "# pip install openvino\n",
    "# pip install aif360\n"
   ]
  },
  {
   "cell_type": "code",
   "execution_count": null,
   "id": "d538d645",
   "metadata": {},
   "outputs": [
    {
     "name": "stderr",
     "output_type": "stream",
     "text": [
      "c:\\Users\\n_oha\\anaconda3\\envs\\pymc_env\\Lib\\site-packages\\openvino\\runtime\\__init__.py:10: DeprecationWarning: The `openvino.runtime` module is deprecated and will be removed in the 2026.0 release. Please replace `openvino.runtime` with `openvino`.\n",
      "  warnings.warn(\n",
      "c:\\Users\\n_oha\\anaconda3\\envs\\pymc_env\\Lib\\site-packages\\inFairness\\utils\\ndcg.py:37: FutureWarning: We've integrated functorch into PyTorch. As the final step of the integration, `functorch.vmap` is deprecated as of PyTorch 2.0 and will be deleted in a future version of PyTorch >= 2.3. Please use `torch.vmap` instead; see the PyTorch 2.0 release notes and/or the `torch.func` migration guide for more details https://pytorch.org/docs/main/func.migrating.html\n",
      "  vect_normalized_discounted_cumulative_gain = vmap(\n",
      "c:\\Users\\n_oha\\anaconda3\\envs\\pymc_env\\Lib\\site-packages\\inFairness\\utils\\ndcg.py:48: FutureWarning: We've integrated functorch into PyTorch. As the final step of the integration, `functorch.vmap` is deprecated as of PyTorch 2.0 and will be deleted in a future version of PyTorch >= 2.3. Please use `torch.vmap` instead; see the PyTorch 2.0 release notes and/or the `torch.func` migration guide for more details https://pytorch.org/docs/main/func.migrating.html\n",
      "  monte_carlo_vect_ndcg = vmap(vect_normalized_discounted_cumulative_gain, in_dims=(0,))\n"
     ]
    }
   ],
   "source": [
    "import zipfile\n",
    "from pathlib import Path\n",
    "from tqdm import tqdm\n",
    "import numpy as np\n",
    "import pandas as pd\n",
    "import matplotlib.pyplot as plt\n",
    "import os\n",
    "import urllib.request\n",
    "import cv2\n",
    "import openvino as ov\n",
    "from openvino.runtime import Core\n",
    "\n",
    "from aif360.datasets import BinaryLabelDataset\n",
    "from aif360.metrics import ClassificationMetric\n",
    "\n",
    "from sklearn.model_selection import train_test_split\n"
   ]
  },
  {
   "cell_type": "markdown",
   "id": "3466b37b",
   "metadata": {},
   "source": [
    "## Prepare dataset"
   ]
  },
  {
   "cell_type": "code",
   "execution_count": null,
   "id": "e19d0830",
   "metadata": {},
   "outputs": [],
   "source": [
    "with zipfile.ZipFile(\"fairface-img-margin025-trainval.zip\", 'r') as zip_ref:\n",
    "    zip_ref.extractall(\"./fairface/\")\n"
   ]
  },
  {
   "cell_type": "code",
   "execution_count": null,
   "id": "482cbff8",
   "metadata": {},
   "outputs": [],
   "source": [
    "# load combined dataset\n",
    "df_train = pd.read_csv(\"fairface_label_train.csv\")\n",
    "df_train[\"split\"] = \"train\"\n",
    "\n",
    "df_val = pd.read_csv(\"fairface_label_val.csv\")\n",
    "df_val[\"split\"] = \"val\"\n",
    "\n",
    "df_base = pd.concat([df_train, df_val], ignore_index=True)\n",
    "df = df_base.copy()\n"
   ]
  },
  {
   "cell_type": "code",
   "execution_count": null,
   "id": "58002b84",
   "metadata": {},
   "outputs": [],
   "source": [
    "IMG_DIR = \"fairface\"\n",
    "df[\"image_path\"] = df[\"file\"].apply(lambda f: os.path.join(IMG_DIR, f))\n"
   ]
  },
  {
   "cell_type": "code",
   "execution_count": null,
   "id": "313e11f6",
   "metadata": {},
   "outputs": [],
   "source": [
    "df = df[df[\"image_path\"].apply(os.path.exists)].copy()\n"
   ]
  },
  {
   "cell_type": "code",
   "execution_count": null,
   "id": "40669bc3",
   "metadata": {},
   "outputs": [
    {
     "name": "stdout",
     "output_type": "stream",
     "text": [
      "Valid image rows: 97698\n"
     ]
    }
   ],
   "source": [
    "df = df[df[\"image_path\"].apply(os.path.exists)].copy()\n",
    "print(f\"Valid image rows: {len(df)}\")\n"
   ]
  },
  {
   "cell_type": "code",
   "execution_count": null,
   "id": "f3943043",
   "metadata": {},
   "outputs": [
    {
     "data": {
      "text/plain": [
       "Index(['file', 'age', 'gender', 'race', 'service_test', 'split', 'image_path'], dtype='object')"
      ]
     },
     "execution_count": 8,
     "metadata": {},
     "output_type": "execute_result"
    }
   ],
   "source": [
    "# Filter service_test == True\n",
    "\n",
    "df = df[df['service_test'] == True]\n",
    "df.columns\n"
   ]
  },
  {
   "cell_type": "code",
   "execution_count": null,
   "id": "a6de2cdd",
   "metadata": {},
   "outputs": [
    {
     "name": "stdout",
     "output_type": "stream",
     "text": [
      "45414\n"
     ]
    }
   ],
   "source": [
    "print(len(df[\"image_path\"].values))\n"
   ]
  },
  {
   "cell_type": "code",
   "execution_count": null,
   "id": "bd34a42b",
   "metadata": {},
   "outputs": [
    {
     "name": "stdout",
     "output_type": "stream",
     "text": [
      "['East Asian' 'Indian' 'White' 'Southeast Asian' 'Middle Eastern' 'Black'\n",
      " 'Latino_Hispanic']\n"
     ]
    }
   ],
   "source": [
    "print(df['race'].unique())\n"
   ]
  },
  {
   "cell_type": "code",
   "execution_count": null,
   "id": "03b43e04",
   "metadata": {},
   "outputs": [
    {
     "name": "stdout",
     "output_type": "stream",
     "text": [
      "['50-59' '20-29' '30-39' '10-19' '60-69' '40-49' '3-9' '0-2'\n",
      " 'more than 70']\n"
     ]
    }
   ],
   "source": [
    "print(df['age'].unique())\n"
   ]
  },
  {
   "cell_type": "code",
   "execution_count": null,
   "id": "c9bc595d",
   "metadata": {},
   "outputs": [
    {
     "name": "stdout",
     "output_type": "stream",
     "text": [
      "Unique race values: ['East Asian' 'Indian' 'White' 'Southeast Asian' 'Middle Eastern' 'Black'\n",
      " 'Latino_Hispanic']\n",
      "Unique gender values: ['Male' 'Female']\n",
      "Unique age values: ['50-59' '20-29' '30-39' '10-19' '60-69' '40-49' '3-9' '0-2'\n",
      " 'more than 70']\n"
     ]
    }
   ],
   "source": [
    "print(\"Unique race values:\", df[\"race\"].unique())\n",
    "print(\"Unique gender values:\", df[\"gender\"].unique())\n",
    "print(\"Unique age values:\", df[\"age\"].unique())\n"
   ]
  },
  {
   "cell_type": "code",
   "execution_count": null,
   "id": "3ec3ecb0",
   "metadata": {},
   "outputs": [],
   "source": [
    "# Encode the 'race' column as binary white or non-white.\n",
    "race_map = {'East Asian': 1, 'Indian': 1, 'White': 0, 'Southeast Asian': 1,\n",
    "            'Middle Eastern': 1, 'Black': 1, 'Latino_Hispanic': 1}\n",
    "df = df[df['race'].isin(race_map)].copy()\n",
    "df['race'] = df['race'].map(race_map)\n",
    "\n",
    "\n",
    "# Encode the \"gender\" column\n",
    "gender_map = {\"Male\": 0, \"Female\": 1}\n",
    "df['gender'] = df['gender'].map(gender_map)\n",
    "\n",
    "# Encode the \"age\" column using standard AIF360 metrics\n",
    "# Binary age grouping: Young (<30) vs. Old (>=30)\n",
    "age_map = {\n",
    "    \"0-2\": 0, \"3-9\": 0, \"10-19\": 0, \"20-29\": 0, \"30-39\": 1,\n",
    "    \"40-49\": 1, \"50-59\": 1, \"60-69\": 1, \"70-79\": 1, \"more than 70\": 1\n",
    "}\n",
    "df['age'] = df['age'].map(age_map)\n",
    "\n",
    "\n",
    "# Drop rows with any NaN after mapping\n",
    "df = df.dropna(subset=['race', 'gender', 'age'])\n",
    "\n",
    "# Now safely cast to int\n",
    "df['race'] = df['race'].astype(int)\n",
    "df['gender'] = df['gender'].astype(int)\n",
    "df['age'] = df['age'].astype(int)\n",
    "\n",
    "df[\"ground_truth\"] = 1\n",
    "df[\"prediction\"] = 1  # Placeholder for predictions\n",
    "\n",
    "df.head(5)  # to see the first 5 rows of the dataframe\n",
    "# df.columns.values.tolist()  # to see all the variables\n",
    "\n",
    "df = df.copy()\n"
   ]
  },
  {
   "cell_type": "code",
   "execution_count": null,
   "id": "1708ec63",
   "metadata": {},
   "outputs": [
    {
     "name": "stdout",
     "output_type": "stream",
     "text": [
      "Race labels: [1 0]\n",
      "Gender labels: [0 1]\n",
      "Age labels: [1 0]\n"
     ]
    }
   ],
   "source": [
    "print(\"Race labels:\", df['race'].unique())\n",
    "print(\"Gender labels:\", df['gender'].unique())\n",
    "print(\"Age labels:\", df['age'].unique())\n"
   ]
  },
  {
   "cell_type": "code",
   "execution_count": null,
   "id": "09f73727",
   "metadata": {},
   "outputs": [
    {
     "data": {
      "text/plain": [
       "['file',\n",
       " 'age',\n",
       " 'gender',\n",
       " 'race',\n",
       " 'service_test',\n",
       " 'split',\n",
       " 'image_path',\n",
       " 'ground_truth',\n",
       " 'prediction']"
      ]
     },
     "execution_count": 15,
     "metadata": {},
     "output_type": "execute_result"
    }
   ],
   "source": [
    "df.columns.values.tolist()\n"
   ]
  },
  {
   "cell_type": "markdown",
   "id": "cd416fae",
   "metadata": {},
   "source": [
    "## Setup OpenVINO Model and Detection Function\n",
    "\n"
   ]
  },
  {
   "cell_type": "code",
   "execution_count": null,
   "id": "262e3f25",
   "metadata": {},
   "outputs": [],
   "source": [
    "# Load OpenVINO Inference Engine\n",
    "core = Core()\n",
    "\n",
    "# Load IR model (.xml and .bin files must be in the same directory)\n",
    "model_path = \"face-detection-0200.xml\"\n",
    "model = core.read_model(model_path)\n",
    "compiled_model = core.compile_model(model, device_name=\"CPU\")\n",
    "\n",
    "# Get input and output layers\n",
    "input_layer = compiled_model.input(0)\n",
    "output_layer = compiled_model.output(0)\n"
   ]
  },
  {
   "cell_type": "code",
   "execution_count": null,
   "id": "0700ddb7",
   "metadata": {},
   "outputs": [],
   "source": [
    "def detect_face(image_path, threshold=0.95):\n",
    "    try:\n",
    "        # Load image\n",
    "        image = cv2.imread(image_path)\n",
    "        if image is None:\n",
    "            print(f\"[ERROR] Could not load image: {image_path}\")\n",
    "            return 0\n",
    "        h, w = image.shape[:2]\n",
    "\n",
    "        # Resize and preprocess (NCHW)\n",
    "        input_tensor = cv2.resize(\n",
    "            image, (input_layer.shape[3], input_layer.shape[2]))\n",
    "        input_tensor = input_tensor.transpose((2, 0, 1))  # HWC to CHW\n",
    "        input_tensor = np.expand_dims(input_tensor, axis=0).astype(np.float32)\n",
    "\n",
    "        # Inference\n",
    "        result = compiled_model([input_tensor])[output_layer]\n",
    "\n",
    "        # Parse results\n",
    "        for det in result[0][0]:\n",
    "            confidence = det[2]\n",
    "            if confidence > threshold:\n",
    "                return 1  # Face detected\n",
    "        return 0  # No detection passes threshold\n",
    "    except Exception as e:\n",
    "        # print(f\"Error processing {image_path}: {e}\")\n",
    "        print(f\"Detections for {image_path}: {[d[2] for d in result[0][0]]}\")\n",
    "        return 0\n"
   ]
  },
  {
   "cell_type": "code",
   "execution_count": null,
   "id": "b59f79b4",
   "metadata": {},
   "outputs": [],
   "source": [
    "# Pseudo-output for AIF360 format\n",
    "df[\"prediction\"] = [1 if detect_face(img) else 0 for img in df[\"image_path\"]]\n"
   ]
  },
  {
   "cell_type": "code",
   "execution_count": null,
   "id": "cadcd780",
   "metadata": {},
   "outputs": [],
   "source": [
    "df = df.copy()\n"
   ]
  },
  {
   "cell_type": "code",
   "execution_count": null,
   "id": "9c1ad6c0",
   "metadata": {},
   "outputs": [
    {
     "data": {
      "application/vnd.microsoft.datawrangler.viewer.v0+json": {
       "columns": [
        {
         "name": "index",
         "rawType": "int64",
         "type": "integer"
        },
        {
         "name": "file",
         "rawType": "object",
         "type": "string"
        },
        {
         "name": "age",
         "rawType": "int32",
         "type": "integer"
        },
        {
         "name": "gender",
         "rawType": "int32",
         "type": "integer"
        },
        {
         "name": "race",
         "rawType": "int32",
         "type": "integer"
        },
        {
         "name": "service_test",
         "rawType": "bool",
         "type": "boolean"
        },
        {
         "name": "split",
         "rawType": "object",
         "type": "string"
        },
        {
         "name": "image_path",
         "rawType": "object",
         "type": "string"
        },
        {
         "name": "ground_truth",
         "rawType": "int64",
         "type": "integer"
        },
        {
         "name": "prediction",
         "rawType": "int64",
         "type": "integer"
        }
       ],
       "conversionMethod": "pd.DataFrame",
       "ref": "a8992fc7-de02-42f4-8508-7ed143995108",
       "rows": [
        [
         "0",
         "train/1.jpg",
         "1",
         "0",
         "1",
         "True",
         "train",
         "fairface\\train/1.jpg",
         "1",
         "1"
        ],
        [
         "3",
         "train/4.jpg",
         "0",
         "1",
         "1",
         "True",
         "train",
         "fairface\\train/4.jpg",
         "1",
         "1"
        ],
        [
         "4",
         "train/5.jpg",
         "0",
         "1",
         "1",
         "True",
         "train",
         "fairface\\train/5.jpg",
         "1",
         "1"
        ],
        [
         "5",
         "train/6.jpg",
         "0",
         "0",
         "0",
         "True",
         "train",
         "fairface\\train/6.jpg",
         "1",
         "1"
        ],
        [
         "7",
         "train/8.jpg",
         "1",
         "1",
         "1",
         "True",
         "train",
         "fairface\\train/8.jpg",
         "1",
         "1"
        ]
       ],
       "shape": {
        "columns": 9,
        "rows": 5
       }
      },
      "text/html": [
       "<div>\n",
       "<style scoped>\n",
       "    .dataframe tbody tr th:only-of-type {\n",
       "        vertical-align: middle;\n",
       "    }\n",
       "\n",
       "    .dataframe tbody tr th {\n",
       "        vertical-align: top;\n",
       "    }\n",
       "\n",
       "    .dataframe thead th {\n",
       "        text-align: right;\n",
       "    }\n",
       "</style>\n",
       "<table border=\"1\" class=\"dataframe\">\n",
       "  <thead>\n",
       "    <tr style=\"text-align: right;\">\n",
       "      <th></th>\n",
       "      <th>file</th>\n",
       "      <th>age</th>\n",
       "      <th>gender</th>\n",
       "      <th>race</th>\n",
       "      <th>service_test</th>\n",
       "      <th>split</th>\n",
       "      <th>image_path</th>\n",
       "      <th>ground_truth</th>\n",
       "      <th>prediction</th>\n",
       "    </tr>\n",
       "  </thead>\n",
       "  <tbody>\n",
       "    <tr>\n",
       "      <th>0</th>\n",
       "      <td>train/1.jpg</td>\n",
       "      <td>1</td>\n",
       "      <td>0</td>\n",
       "      <td>1</td>\n",
       "      <td>True</td>\n",
       "      <td>train</td>\n",
       "      <td>fairface\\train/1.jpg</td>\n",
       "      <td>1</td>\n",
       "      <td>1</td>\n",
       "    </tr>\n",
       "    <tr>\n",
       "      <th>3</th>\n",
       "      <td>train/4.jpg</td>\n",
       "      <td>0</td>\n",
       "      <td>1</td>\n",
       "      <td>1</td>\n",
       "      <td>True</td>\n",
       "      <td>train</td>\n",
       "      <td>fairface\\train/4.jpg</td>\n",
       "      <td>1</td>\n",
       "      <td>1</td>\n",
       "    </tr>\n",
       "    <tr>\n",
       "      <th>4</th>\n",
       "      <td>train/5.jpg</td>\n",
       "      <td>0</td>\n",
       "      <td>1</td>\n",
       "      <td>1</td>\n",
       "      <td>True</td>\n",
       "      <td>train</td>\n",
       "      <td>fairface\\train/5.jpg</td>\n",
       "      <td>1</td>\n",
       "      <td>1</td>\n",
       "    </tr>\n",
       "    <tr>\n",
       "      <th>5</th>\n",
       "      <td>train/6.jpg</td>\n",
       "      <td>0</td>\n",
       "      <td>0</td>\n",
       "      <td>0</td>\n",
       "      <td>True</td>\n",
       "      <td>train</td>\n",
       "      <td>fairface\\train/6.jpg</td>\n",
       "      <td>1</td>\n",
       "      <td>1</td>\n",
       "    </tr>\n",
       "    <tr>\n",
       "      <th>7</th>\n",
       "      <td>train/8.jpg</td>\n",
       "      <td>1</td>\n",
       "      <td>1</td>\n",
       "      <td>1</td>\n",
       "      <td>True</td>\n",
       "      <td>train</td>\n",
       "      <td>fairface\\train/8.jpg</td>\n",
       "      <td>1</td>\n",
       "      <td>1</td>\n",
       "    </tr>\n",
       "  </tbody>\n",
       "</table>\n",
       "</div>"
      ],
      "text/plain": [
       "          file  age  gender  race  service_test  split            image_path  \\\n",
       "0  train/1.jpg    1       0     1          True  train  fairface\\train/1.jpg   \n",
       "3  train/4.jpg    0       1     1          True  train  fairface\\train/4.jpg   \n",
       "4  train/5.jpg    0       1     1          True  train  fairface\\train/5.jpg   \n",
       "5  train/6.jpg    0       0     0          True  train  fairface\\train/6.jpg   \n",
       "7  train/8.jpg    1       1     1          True  train  fairface\\train/8.jpg   \n",
       "\n",
       "   ground_truth  prediction  \n",
       "0             1           1  \n",
       "3             1           1  \n",
       "4             1           1  \n",
       "5             1           1  \n",
       "7             1           1  "
      ]
     },
     "execution_count": 20,
     "metadata": {},
     "output_type": "execute_result"
    }
   ],
   "source": [
    "df.head(5)  # to see the first 5 rows of the dataframe\n"
   ]
  },
  {
   "cell_type": "code",
   "execution_count": null,
   "id": "d9d6b28e",
   "metadata": {},
   "outputs": [
    {
     "name": "stdout",
     "output_type": "stream",
     "text": [
      "Train: 40252, Val: 5162\n"
     ]
    }
   ],
   "source": [
    "# Re-split the dataset into train and val sets\n",
    "df_train = df[df[\"split\"] == \"train\"].copy()\n",
    "df_val = df[df[\"split\"] == \"val\"].copy()\n",
    "\n",
    "print(f\"Train: {len(df_train)}, Val: {len(df_val)}\")\n"
   ]
  },
  {
   "cell_type": "code",
   "execution_count": null,
   "id": "09855dc6",
   "metadata": {},
   "outputs": [
    {
     "name": "stdout",
     "output_type": "stream",
     "text": [
      "Train: 27248, Val: 9083, Test: 9083\n"
     ]
    }
   ],
   "source": [
    "# Split the dataset into train, validation, and test sets\n",
    "\n",
    "# Split into train+val and test (20% test)\n",
    "df_temp, df_test = train_test_split(\n",
    "    df, test_size=0.2, random_state=42, stratify=df[\"race\"])\n",
    "\n",
    "# Further split train+val into train and val (e.g., 75% train, 25% val)\n",
    "df_train, df_val = train_test_split(\n",
    "    df_temp, test_size=0.25, random_state=42, stratify=df_temp[\"race\"])\n",
    "\n",
    "# Confirm splits\n",
    "print(f\"Train: {len(df_train)}, Val: {len(df_val)}, Test: {len(df_test)}\")\n"
   ]
  },
  {
   "cell_type": "markdown",
   "id": "a3f7dbc8",
   "metadata": {},
   "source": [
    "# Apply AIF 360 Bias Detection"
   ]
  },
  {
   "cell_type": "markdown",
   "id": "a6ef077b",
   "metadata": {},
   "source": [
    "## Metric Interpretation\n",
    "\n",
    "| **Metric**                    | **Ideal** | **Biased If...**                             |\n",
    "| ----------------------------- | --------- | -------------------------------------------- |\n",
    "| Disparate Impact              | ≈ 1.0     | < 0.8 or > 1.25 → favors one group           |\n",
    "| Statistical Parity Difference | ≈ 0.0     | Large positive/negative → disparity in rates |\n",
    "| Equal Opportunity Difference  | ≈ 0.0     | True positive rate differs across groups     |\n",
    "| Average Odds Difference       | ≈ 0.0     | Combines TPR and FPR differences             |\n"
   ]
  },
  {
   "cell_type": "markdown",
   "id": "38562061",
   "metadata": {},
   "source": [
    "## Bias Evaluation by Race"
   ]
  },
  {
   "cell_type": "code",
   "execution_count": null,
   "id": "9a6ee0ae",
   "metadata": {},
   "outputs": [],
   "source": [
    "# y_true = ground_truth (all 1s in this case)\n",
    "# y_pred = prediction (from OpenVINO model)\n",
    "# protected_attr = race (0 = White, 1 = Non-White)\n",
    "\n",
    "\n",
    "aif_race = BinaryLabelDataset(\n",
    "    df=df_val[[\"prediction\", \"ground_truth\", \"race\"]],\n",
    "    label_names=[\"ground_truth\"],\n",
    "    protected_attribute_names=[\"race\"]\n",
    ")\n",
    "\n",
    "# Copy and assign model predictions as labels\n",
    "race_pred = aif_race.copy()\n",
    "race_pred.labels = df_val[\"prediction\"].values.reshape(-1, 1)\n"
   ]
  },
  {
   "cell_type": "code",
   "execution_count": null,
   "id": "9cc010b5",
   "metadata": {},
   "outputs": [
    {
     "name": "stdout",
     "output_type": "stream",
     "text": [
      "Disparate Impact: 1.018367381537679\n",
      "Statistical Parity Difference: 0.01657578594990239\n",
      "Equal Opportunity Difference: 0.01657578594990239\n",
      "Average Odds Difference: nan\n"
     ]
    },
    {
     "name": "stderr",
     "output_type": "stream",
     "text": [
      "c:\\Users\\n_oha\\anaconda3\\envs\\pymc_env\\Lib\\site-packages\\aif360\\metrics\\classification_metric.py:278: RuntimeWarning: invalid value encountered in scalar divide\n",
      "  TPR=TP / P, TNR=TN / N, FPR=FP / N, FNR=FN / P,\n",
      "c:\\Users\\n_oha\\anaconda3\\envs\\pymc_env\\Lib\\site-packages\\aif360\\metrics\\classification_metric.py:279: RuntimeWarning: invalid value encountered in scalar divide\n",
      "  GTPR=GTP / P, GTNR=GTN / N, GFPR=GFP / N, GFNR=GFN / P,\n"
     ]
    }
   ],
   "source": [
    "# Define groups\n",
    "privileged_groups = [{'race': 0}]      # e.g., White\n",
    "unprivileged_groups = [{'race': 1}]    # e.g., Non-White\n",
    "\n",
    "# Compute bias metrics\n",
    "metric = ClassificationMetric(\n",
    "    aif_race, race_pred,\n",
    "    privileged_groups=privileged_groups,\n",
    "    unprivileged_groups=unprivileged_groups\n",
    ")\n",
    "\n",
    "# Print key fairness metrics\n",
    "print(\"Disparate Impact:\", metric.disparate_impact())\n",
    "print(\"Statistical Parity Difference:\", metric.statistical_parity_difference())\n",
    "print(\"Equal Opportunity Difference:\", metric.equal_opportunity_difference())\n",
    "print(\"Average Odds Difference:\", metric.average_odds_difference())\n"
   ]
  },
  {
   "cell_type": "code",
   "execution_count": null,
   "id": "c30bb3b3",
   "metadata": {},
   "outputs": [
    {
     "data": {
      "image/png": "[encoded data removed]",
      "text/plain": [
       "<Figure size 600x400 with 1 Axes>"
      ]
     },
     "metadata": {},
     "output_type": "display_data"
    }
   ],
   "source": [
    "# Calculate detection rate per group\n",
    "group_rates = df_val.groupby(\"race\")[\"prediction\"].mean()\n",
    "group_counts = df_val[\"race\"].value_counts()\n",
    "\n",
    "# Convert to display names\n",
    "group_names = {0: \"White\", 1: \"Non-White\"}\n",
    "\n",
    "plt.figure(figsize=(6, 4))\n",
    "plt.bar([group_names[k] for k in group_rates.index], group_rates.values)\n",
    "plt.title(\"Face Detection Rate by Race\")\n",
    "plt.ylabel(\"Detection Rate\")\n",
    "plt.ylim(0, 1)\n",
    "plt.grid(axis='y')\n",
    "plt.show()\n"
   ]
  },
  {
   "cell_type": "code",
   "execution_count": null,
   "id": "29ab1985",
   "metadata": {},
   "outputs": [
    {
     "data": {
      "image/png": "[encoded data removed]",
      "text/plain": [
       "<Figure size 700x400 with 1 Axes>"
      ]
     },
     "metadata": {},
     "output_type": "display_data"
    }
   ],
   "source": [
    "metrics = {\n",
    "    \"Disparate Impact\": metric.disparate_impact(),\n",
    "    \"Stat. Parity Diff\": metric.statistical_parity_difference(),\n",
    "    \"Equal Opp. Diff\": metric.equal_opportunity_difference(),\n",
    "    \"Avg. Odds Diff\": metric.average_odds_difference()\n",
    "}\n",
    "\n",
    "plt.figure(figsize=(7, 4))\n",
    "plt.barh(list(metrics.keys()), list(metrics.values()))\n",
    "plt.axvline(0, color='gray', linestyle='--')\n",
    "plt.title(\"AIF360 Fairness Metrics (Race)\")\n",
    "plt.xlabel(\"Metric Value\")\n",
    "plt.grid(axis='x')\n",
    "plt.show()\n"
   ]
  },
  {
   "cell_type": "markdown",
   "id": "e97d504f",
   "metadata": {},
   "source": [
    "## Bias Evaluation by Gender"
   ]
  },
  {
   "cell_type": "code",
   "execution_count": null,
   "id": "b00aba9b",
   "metadata": {},
   "outputs": [],
   "source": [
    "# Gender metrics\n",
    "\n",
    "aif_gender = BinaryLabelDataset(\n",
    "    df=df_val[[\"prediction\", \"ground_truth\", \"gender\"]],\n",
    "    label_names=[\"ground_truth\"],\n",
    "    protected_attribute_names=[\"gender\"]\n",
    ")\n",
    "\n",
    "gender_pred = aif_gender.copy()\n",
    "gender_pred.labels = df_val[\"prediction\"].values.reshape(-1, 1)\n"
   ]
  },
  {
   "cell_type": "code",
   "execution_count": null,
   "id": "ef08535c",
   "metadata": {},
   "outputs": [
    {
     "name": "stdout",
     "output_type": "stream",
     "text": [
      "Fairness metrics by gender:\n",
      "Disparate Impact: 1.0263030585963757\n",
      "Statistical Parity Difference: 0.023799923507899834\n",
      "Equal Opportunity Difference: 0.023799923507899834\n",
      "Average Odds Difference: nan\n"
     ]
    },
    {
     "name": "stderr",
     "output_type": "stream",
     "text": [
      "c:\\Users\\n_oha\\anaconda3\\envs\\pymc_env\\Lib\\site-packages\\aif360\\metrics\\classification_metric.py:278: RuntimeWarning: invalid value encountered in scalar divide\n",
      "  TPR=TP / P, TNR=TN / N, FPR=FP / N, FNR=FN / P,\n",
      "c:\\Users\\n_oha\\anaconda3\\envs\\pymc_env\\Lib\\site-packages\\aif360\\metrics\\classification_metric.py:279: RuntimeWarning: invalid value encountered in scalar divide\n",
      "  GTPR=GTP / P, GTNR=GTN / N, GFPR=GFP / N, GFNR=GFN / P,\n"
     ]
    }
   ],
   "source": [
    "# Define groups\n",
    "privileged = [{'gender': 0}]\t\t# Male\n",
    "unprivileged = [{'gender': 1}]\t\t# Female\n",
    "\n",
    "\n",
    "metric_gender = ClassificationMetric(\n",
    "    aif_gender,\n",
    "    gender_pred,\n",
    "    privileged_groups=privileged,\n",
    "    unprivileged_groups=unprivileged\n",
    ")\n",
    "\n",
    "# Print metrics\n",
    "print(\"Fairness metrics by gender:\")\n",
    "print(\"Disparate Impact:\", metric_gender.disparate_impact())\n",
    "print(\"Statistical Parity Difference:\",\n",
    "      metric_gender.statistical_parity_difference())\n",
    "print(\"Equal Opportunity Difference:\",\n",
    "      metric_gender.equal_opportunity_difference())\n",
    "print(\"Average Odds Difference:\", metric_gender.average_odds_difference())\n"
   ]
  },
  {
   "cell_type": "code",
   "execution_count": null,
   "id": "369a6075",
   "metadata": {},
   "outputs": [
    {
     "data": {
      "image/png": "[encoded data removed]",
      "text/plain": [
       "<Figure size 600x400 with 1 Axes>"
      ]
     },
     "metadata": {},
     "output_type": "display_data"
    }
   ],
   "source": [
    "# Calculate detection rate per group\n",
    "group_rates = df_val.groupby(\"gender\")[\"prediction\"].mean()\n",
    "group_counts = df_val[\"gender\"].value_counts()\n",
    "\n",
    "# Convert to display names\n",
    "group_names = {0: \"Male\", 1: \"Female\"}\n",
    "\n",
    "plt.figure(figsize=(6, 4))\n",
    "plt.bar([group_names[k] for k in group_rates.index], group_rates.values)\n",
    "plt.title(\"Face Detection Rate by Gender\")\n",
    "plt.ylabel(\"Detection Rate\")\n",
    "plt.ylim(0, 1)\n",
    "plt.grid(axis='y')\n",
    "plt.show()\n"
   ]
  },
  {
   "cell_type": "code",
   "execution_count": null,
   "id": "a4de729f",
   "metadata": {},
   "outputs": [
    {
     "data": {
      "image/png": "[encoded data removed]",
      "text/plain": [
       "<Figure size 700x400 with 1 Axes>"
      ]
     },
     "metadata": {},
     "output_type": "display_data"
    }
   ],
   "source": [
    "# Collect metric values into a dictionary\n",
    "gender_metrics = {\n",
    "    \"Disparate Impact\": metric_gender.disparate_impact(),\n",
    "    \"Stat. Parity Diff\": metric_gender.statistical_parity_difference(),\n",
    "    \"Equal Opp. Diff\": metric_gender.equal_opportunity_difference(),\n",
    "    \"Avg. Odds Diff\": metric_gender.average_odds_difference()\n",
    "}\n",
    "\n",
    "# Plot as horizontal bar chart\n",
    "plt.figure(figsize=(7, 4))\n",
    "plt.barh(list(gender_metrics.keys()), list(\n",
    "    gender_metrics.values()), color='skyblue')\n",
    "plt.axvline(0, color='gray', linestyle='--')\n",
    "plt.title(\"AIF360 Fairness Metrics by Gender\")\n",
    "plt.xlabel(\"Metric Value\")\n",
    "plt.grid(axis='x')\n",
    "plt.tight_layout()\n",
    "plt.show()\n"
   ]
  },
  {
   "cell_type": "markdown",
   "id": "8859ae3c",
   "metadata": {},
   "source": [
    "## Bias Evaluation by Age"
   ]
  },
  {
   "cell_type": "code",
   "execution_count": null,
   "id": "19c0bf44",
   "metadata": {},
   "outputs": [],
   "source": [
    "# Age metrics\n",
    "\n",
    "aif_age = BinaryLabelDataset(\n",
    "    df=df_val[[\"prediction\", \"ground_truth\", \"age\"]],\n",
    "    label_names=[\"ground_truth\"],\n",
    "    protected_attribute_names=[\"age\"]\n",
    ")\n",
    "\n",
    "# Copy and assign model predictions as labels\n",
    "age_pred = aif_age.copy()\n",
    "age_pred.labels = df_val[\"prediction\"].values.reshape(-1, 1)\n"
   ]
  },
  {
   "cell_type": "code",
   "execution_count": null,
   "id": "4c147940",
   "metadata": {},
   "outputs": [
    {
     "name": "stdout",
     "output_type": "stream",
     "text": [
      "Disparate Impact: 0.9742389746184332\n",
      "Statistical Parity Difference: -0.023861594938686226\n",
      "Equal Opportunity Difference: -0.023861594938686226\n",
      "Average Odds Difference: nan\n"
     ]
    },
    {
     "name": "stderr",
     "output_type": "stream",
     "text": [
      "c:\\Users\\n_oha\\anaconda3\\envs\\pymc_env\\Lib\\site-packages\\aif360\\metrics\\classification_metric.py:278: RuntimeWarning: invalid value encountered in scalar divide\n",
      "  TPR=TP / P, TNR=TN / N, FPR=FP / N, FNR=FN / P,\n",
      "c:\\Users\\n_oha\\anaconda3\\envs\\pymc_env\\Lib\\site-packages\\aif360\\metrics\\classification_metric.py:279: RuntimeWarning: invalid value encountered in scalar divide\n",
      "  GTPR=GTP / P, GTNR=GTN / N, GFPR=GFP / N, GFNR=GFN / P,\n"
     ]
    }
   ],
   "source": [
    "# Define groups\n",
    "privileged_groups = [{'age': 0}]      # Young\n",
    "unprivileged_groups = [{'age': 1}]      # Old\n",
    "\n",
    "# Compute bias metrics\n",
    "metric_age = ClassificationMetric(\n",
    "    aif_age,\n",
    "    age_pred,\n",
    "    privileged_groups=privileged_groups,\n",
    "    unprivileged_groups=unprivileged_groups\n",
    ")\n",
    "\n",
    "# Print key fairness metrics\n",
    "print(\"Disparate Impact:\", metric_age.disparate_impact())\n",
    "print(\"Statistical Parity Difference:\",\n",
    "      metric_age.statistical_parity_difference())\n",
    "print(\"Equal Opportunity Difference:\",\n",
    "      metric_age.equal_opportunity_difference())\n",
    "print(\"Average Odds Difference:\", metric_age.average_odds_difference())\n"
   ]
  },
  {
   "cell_type": "code",
   "execution_count": null,
   "id": "4579b687",
   "metadata": {},
   "outputs": [
    {
     "data": {
      "image/png": "[encoded data removed]",
      "text/plain": [
       "<Figure size 600x400 with 1 Axes>"
      ]
     },
     "metadata": {},
     "output_type": "display_data"
    }
   ],
   "source": [
    "# Calculate detection rate per group\n",
    "group_rates = df_val.groupby(\"age\")[\"prediction\"].mean()\n",
    "group_counts = df_val[\"age\"].value_counts()\n",
    "\n",
    "# Convert to display names\n",
    "group_names = {0: \"Young\", 1: \"Old\"}\n",
    "\n",
    "plt.figure(figsize=(6, 4))\n",
    "plt.bar([group_names[k] for k in group_rates.index], group_rates.values)\n",
    "plt.title(\"Face Detection Rate by Age\")\n",
    "plt.ylabel(\"Detection Rate\")\n",
    "plt.ylim(0, 1)\n",
    "plt.grid(axis='y')\n",
    "plt.show()\n"
   ]
  },
  {
   "cell_type": "code",
   "execution_count": null,
   "id": "6713cf9b",
   "metadata": {},
   "outputs": [
    {
     "data": {
      "image/png": "[encoded data removed]",
      "text/plain": [
       "<Figure size 700x400 with 1 Axes>"
      ]
     },
     "metadata": {},
     "output_type": "display_data"
    }
   ],
   "source": [
    "# Collect metric values into a dictionary\n",
    "age_metrics = {\n",
    "    \"Disparate Impact\": metric_age.disparate_impact(),\n",
    "    \"Stat. Parity Diff\": metric_age.statistical_parity_difference(),\n",
    "    \"Equal Opp. Diff\": metric_age.equal_opportunity_difference(),\n",
    "    \"Avg. Odds Diff\": metric_age.average_odds_difference()\n",
    "}\n",
    "\n",
    "# Plot as horizontal bar chart\n",
    "plt.figure(figsize=(7, 4))\n",
    "plt.barh(list(age_metrics.keys()), list(\n",
    "    age_metrics.values()), color='skyblue')\n",
    "plt.axvline(0, color='gray', linestyle='--')\n",
    "plt.title(\"AIF360 Fairness Metrics by Age\")\n",
    "plt.xlabel(\"Metric Value\")\n",
    "plt.grid(axis='x')\n",
    "plt.tight_layout()\n",
    "plt.show()\n"
   ]
  }
 ],
 "metadata": {
  "kernelspec": {
   "display_name": "pymc_env",
   "language": "python",
   "name": "python3"
  },
  "language_info": {
   "codemirror_mode": {
    "name": "ipython",
    "version": 3
   },
   "file_extension": ".py",
   "mimetype": "text/x-python",
   "name": "python",
   "nbconvert_exporter": "python",
   "pygments_lexer": "ipython3",
   "version": "3.11.5"
  }
 },
 "nbformat": 4,
 "nbformat_minor": 5
}
